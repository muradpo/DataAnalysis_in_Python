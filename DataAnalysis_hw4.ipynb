{
 "cells": [
  {
   "cell_type": "markdown",
   "id": "gorgeous-position",
   "metadata": {
    "id": "gorgeous-position"
   },
   "source": [
    "<center>\n",
    "<img src=\"https://github.com/hse-econ-data-science/andan_2023/blob/main/hw/hw04/images/AB.jpeg?raw=true\" height=\"200\"> \n",
    "\n",
    "# Андан на экономе: домашнее задание 4 \n",
    "## Проверка гипотез и А/Б-тестирование\n",
    "</center>\n",
    "\n",
    "\n",
    "**ФИО**: Мурадханова Полина Раджабалиевна\n",
    "\n",
    "**id из контеста:** dap_econ_2022_338\n"
   ]
  },
  {
   "cell_type": "markdown",
   "id": "developmental-secondary",
   "metadata": {
    "id": "developmental-secondary"
   },
   "source": [
    "## Общая информация\n",
    "\n",
    "\n",
    "__Дата выдачи:__ 17.05.2023\n",
    "\n",
    "__Мягкий дедлайн:__ 23:59MSK 09.06.2023\n",
    "\n",
    "__Жесткий дедлайн:__ 23:59MSK 16.06.2023"
   ]
  },
  {
   "cell_type": "markdown",
   "id": "danish-magnet",
   "metadata": {
    "id": "danish-magnet"
   },
   "source": [
    "## Оценивание и штрафы\n",
    "\n",
    "Каждая из задач имеет определенную «стоимость» (указана в скобках около задачи). Максимально допустимая оценка за работу — 100 баллов. За каждый день просрочки после мягкого дедлайна снимается 10 баллов. После жёсткого дедлайна работы не принимаются. Даже при опозданиии на одну секунду. Сдавайте работы заранее.\n",
    "\n",
    "Мягкий дедлайн можно отодвинуть без потери баллов на 1,2 или 3 дня. Суммарно для откладывания в запасе есть три дня. Можно отодвинуть один дедлайн на три дня, а можно три дедлайна подвинуть на один день. Распоряжаться этими днями студент может как угодно. Жёсткий дедлайн, при этом, не меняется. Если такое произошло, нужно сообщить о сдвиге при сдаче работы.\n",
    "\n",
    "Задание выполняется самостоятельно. «Похожие» решения считаются плагиатом и все задействованные студенты (в том числе те, у кого списали) не могут получить за него больше 0 баллов. Если вы нашли решение какого-то из заданий (или его часть) в открытом источнике, необходимо указать ссылку на этот источник (скорее всего вы будете не единственным, кто это нашел, поэтому чтобы исключить подозрение в плагиате, необходима ссылка на источник).\n",
    "\n",
    "Любой из студентов может быть вызван на защиту любого домашнего задания. В таком случае итоговая оценка студента определяется в результате защиты.\n",
    "\n",
    "> За отсутствие названий графиков и подписей к осям могут снижаться баллы. Все картинки должны быть самодостаточны и визуально удобны для восприятия, так чтобы не нужно было смотреть ваш код или знать задание, чтобы понять что на них изображено. \n",
    "\n",
    "> Выводы должны быть релевантными. Не забывайте их писать. Если в вопросе требуется ответ словами, а его нет, вы будете терять довольно много баллов.\n",
    "\n",
    "> Фиксируйте все seed'ы, random_state'ы и тд - ваш код должен быть воспроизводим с теми же результатами."
   ]
  },
  {
   "cell_type": "markdown",
   "id": "reported-builder",
   "metadata": {
    "id": "reported-builder"
   },
   "source": [
    "## Формат сдачи\n",
    "\n",
    "Сам ноутбук называйте в формате hw-04-USERNAME.ipynb, где USERNAME — ваши фамилия и имя. Файл сдаётся в anytask."
   ]
  },
  {
   "cell_type": "markdown",
   "id": "opening-nowhere",
   "metadata": {
    "id": "opening-nowhere"
   },
   "source": [
    "## Импорт необходимых библиотек \n",
    "\n",
    "Импортируйте все используемые библиотеки здесь."
   ]
  },
  {
   "cell_type": "code",
   "execution_count": 1,
   "id": "addressed-african",
   "metadata": {
    "id": "addressed-african"
   },
   "outputs": [],
   "source": [
    "import pandas as pd \n",
    "import numpy as np\n",
    "import scipy.stats as sts\n",
    "\n",
    "import matplotlib.pyplot as plt\n",
    "import seaborn as sns\n",
    "\n",
    "from collections import defaultdict"
   ]
  },
  {
   "cell_type": "code",
   "execution_count": 2,
   "id": "stylish-raise",
   "metadata": {
    "id": "stylish-raise"
   },
   "outputs": [],
   "source": [
    "# Отключение некоторых лишних предупреждений\n",
    "import warnings\n",
    "warnings.filterwarnings(\"ignore\")"
   ]
  },
  {
   "cell_type": "code",
   "execution_count": 3,
   "id": "musical-element",
   "metadata": {
    "id": "musical-element"
   },
   "outputs": [],
   "source": [
    "sns.set_theme(style=\"whitegrid\", palette=\"muted\")\n",
    "plt.rcParams['figure.figsize'] = (8, 4)"
   ]
  },
  {
   "cell_type": "markdown",
   "id": "destroyed-joining",
   "metadata": {
    "id": "destroyed-joining"
   },
   "source": [
    "# Часть 1: Процедура проверки гипотез"
   ]
  },
  {
   "cell_type": "markdown",
   "id": "aging-insulation",
   "metadata": {
    "id": "aging-insulation"
   },
   "source": [
    "Для начала повторим теорию проверки гипотез и поотвечаем на различные вопросы. \n",
    "\n",
    "> Ниже вас ждут несколько примеров гипотез, на которые вам нужно получить статистически значимые ответы. Вы можете пользоваться встроенными функциями тестов, можете писать свои, а можете использовать с семинаров – это не влияет на полученные баллы. Вы также оставляете за собой право выбрать, проверять гипотезу через `p-value` или по критическим точкам или вообще по доверительным интервалам (но здесь будьте осторожнее, особенно, когда у вас 2 выборки). \n",
    "\n",
    "__Здесь важно:__\n",
    "\n",
    "- Правильно посчитать `p-value` либо наблюдаемое значение критерия (либо дов. интервал);\n",
    "- Правильно сделать вывод об отвержении / не отвержении нулевой гипотезы;\n",
    "- Правильно выбрать тест для проверки и обосновать, почему вы выбрали именно его.\n",
    "\n",
    "Гипотезы проверяйте на $5\\%$ уровне значимости"
   ]
  },
  {
   "cell_type": "markdown",
   "id": "prompt-demonstration",
   "metadata": {
    "id": "prompt-demonstration"
   },
   "source": [
    "## Задача №1: Экзамен"
   ]
  },
  {
   "cell_type": "markdown",
   "id": "concerned-handle",
   "metadata": {
    "id": "concerned-handle"
   },
   "source": [
    "<img src=\"https://github.com/hse-econ-data-science/andan_2023/blob/main/hw/hw04/images/exam.jpeg?raw=true\" width=\"400\" align='left'>"
   ]
  },
  {
   "cell_type": "markdown",
   "id": "fitting-maryland",
   "metadata": {
    "id": "fitting-maryland"
   },
   "source": [
    "У вас есть набор данных об оценках студентов на экзамене. Каждая строка в датасете – отдельный студент. Датасет представляет собой следующие колонки:\n",
    "\n",
    "* `gender` – пол\n",
    "* `race/ethnicity` – раса / этническая принадлежность\n",
    "* `parental level of education` – уровень образования\n",
    "* `lunch` – получает ли бесплатные обеды (тип питания)\n",
    "* `test preparation course` – прошел ли курсы по подготовке к тесту\n",
    "* `math score` – баллы за математику\n",
    "* `reading score` – баллы за чтение\n",
    "* `writing score` – баллы за письменность"
   ]
  },
  {
   "cell_type": "code",
   "execution_count": 4,
   "id": "selected-mounting",
   "metadata": {
    "colab": {
     "base_uri": "https://localhost:8080/",
     "height": 424
    },
    "id": "selected-mounting",
    "outputId": "54e56201-8196-49fc-8d38-b5462959b85d"
   },
   "outputs": [
    {
     "data": {
      "text/html": [
       "\n",
       "  <div id=\"df-51bf40c7-7ac8-4fb6-9d41-3d7b34de176b\">\n",
       "    <div class=\"colab-df-container\">\n",
       "      <div>\n",
       "<style scoped>\n",
       "    .dataframe tbody tr th:only-of-type {\n",
       "        vertical-align: middle;\n",
       "    }\n",
       "\n",
       "    .dataframe tbody tr th {\n",
       "        vertical-align: top;\n",
       "    }\n",
       "\n",
       "    .dataframe thead th {\n",
       "        text-align: right;\n",
       "    }\n",
       "</style>\n",
       "<table border=\"1\" class=\"dataframe\">\n",
       "  <thead>\n",
       "    <tr style=\"text-align: right;\">\n",
       "      <th></th>\n",
       "      <th>gender</th>\n",
       "      <th>race/ethnicity</th>\n",
       "      <th>parental level of education</th>\n",
       "      <th>lunch</th>\n",
       "      <th>test preparation course</th>\n",
       "      <th>math score</th>\n",
       "      <th>reading score</th>\n",
       "      <th>writing score</th>\n",
       "    </tr>\n",
       "  </thead>\n",
       "  <tbody>\n",
       "    <tr>\n",
       "      <th>0</th>\n",
       "      <td>female</td>\n",
       "      <td>group B</td>\n",
       "      <td>bachelor's degree</td>\n",
       "      <td>standard</td>\n",
       "      <td>none</td>\n",
       "      <td>72</td>\n",
       "      <td>72</td>\n",
       "      <td>74</td>\n",
       "    </tr>\n",
       "    <tr>\n",
       "      <th>1</th>\n",
       "      <td>female</td>\n",
       "      <td>group C</td>\n",
       "      <td>some college</td>\n",
       "      <td>standard</td>\n",
       "      <td>completed</td>\n",
       "      <td>69</td>\n",
       "      <td>90</td>\n",
       "      <td>88</td>\n",
       "    </tr>\n",
       "    <tr>\n",
       "      <th>2</th>\n",
       "      <td>female</td>\n",
       "      <td>group B</td>\n",
       "      <td>master's degree</td>\n",
       "      <td>standard</td>\n",
       "      <td>none</td>\n",
       "      <td>90</td>\n",
       "      <td>95</td>\n",
       "      <td>93</td>\n",
       "    </tr>\n",
       "    <tr>\n",
       "      <th>3</th>\n",
       "      <td>male</td>\n",
       "      <td>group A</td>\n",
       "      <td>associate's degree</td>\n",
       "      <td>free/reduced</td>\n",
       "      <td>none</td>\n",
       "      <td>47</td>\n",
       "      <td>57</td>\n",
       "      <td>44</td>\n",
       "    </tr>\n",
       "    <tr>\n",
       "      <th>4</th>\n",
       "      <td>male</td>\n",
       "      <td>group C</td>\n",
       "      <td>some college</td>\n",
       "      <td>standard</td>\n",
       "      <td>none</td>\n",
       "      <td>76</td>\n",
       "      <td>78</td>\n",
       "      <td>75</td>\n",
       "    </tr>\n",
       "    <tr>\n",
       "      <th>...</th>\n",
       "      <td>...</td>\n",
       "      <td>...</td>\n",
       "      <td>...</td>\n",
       "      <td>...</td>\n",
       "      <td>...</td>\n",
       "      <td>...</td>\n",
       "      <td>...</td>\n",
       "      <td>...</td>\n",
       "    </tr>\n",
       "    <tr>\n",
       "      <th>995</th>\n",
       "      <td>female</td>\n",
       "      <td>group E</td>\n",
       "      <td>master's degree</td>\n",
       "      <td>standard</td>\n",
       "      <td>completed</td>\n",
       "      <td>88</td>\n",
       "      <td>99</td>\n",
       "      <td>95</td>\n",
       "    </tr>\n",
       "    <tr>\n",
       "      <th>996</th>\n",
       "      <td>male</td>\n",
       "      <td>group C</td>\n",
       "      <td>high school</td>\n",
       "      <td>free/reduced</td>\n",
       "      <td>none</td>\n",
       "      <td>62</td>\n",
       "      <td>55</td>\n",
       "      <td>55</td>\n",
       "    </tr>\n",
       "    <tr>\n",
       "      <th>997</th>\n",
       "      <td>female</td>\n",
       "      <td>group C</td>\n",
       "      <td>high school</td>\n",
       "      <td>free/reduced</td>\n",
       "      <td>completed</td>\n",
       "      <td>59</td>\n",
       "      <td>71</td>\n",
       "      <td>65</td>\n",
       "    </tr>\n",
       "    <tr>\n",
       "      <th>998</th>\n",
       "      <td>female</td>\n",
       "      <td>group D</td>\n",
       "      <td>some college</td>\n",
       "      <td>standard</td>\n",
       "      <td>completed</td>\n",
       "      <td>68</td>\n",
       "      <td>78</td>\n",
       "      <td>77</td>\n",
       "    </tr>\n",
       "    <tr>\n",
       "      <th>999</th>\n",
       "      <td>female</td>\n",
       "      <td>group D</td>\n",
       "      <td>some college</td>\n",
       "      <td>free/reduced</td>\n",
       "      <td>none</td>\n",
       "      <td>77</td>\n",
       "      <td>86</td>\n",
       "      <td>86</td>\n",
       "    </tr>\n",
       "  </tbody>\n",
       "</table>\n",
       "<p>1000 rows × 8 columns</p>\n",
       "</div>\n",
       "      <button class=\"colab-df-convert\" onclick=\"convertToInteractive('df-51bf40c7-7ac8-4fb6-9d41-3d7b34de176b')\"\n",
       "              title=\"Convert this dataframe to an interactive table.\"\n",
       "              style=\"display:none;\">\n",
       "        \n",
       "  <svg xmlns=\"http://www.w3.org/2000/svg\" height=\"24px\"viewBox=\"0 0 24 24\"\n",
       "       width=\"24px\">\n",
       "    <path d=\"M0 0h24v24H0V0z\" fill=\"none\"/>\n",
       "    <path d=\"M18.56 5.44l.94 2.06.94-2.06 2.06-.94-2.06-.94-.94-2.06-.94 2.06-2.06.94zm-11 1L8.5 8.5l.94-2.06 2.06-.94-2.06-.94L8.5 2.5l-.94 2.06-2.06.94zm10 10l.94 2.06.94-2.06 2.06-.94-2.06-.94-.94-2.06-.94 2.06-2.06.94z\"/><path d=\"M17.41 7.96l-1.37-1.37c-.4-.4-.92-.59-1.43-.59-.52 0-1.04.2-1.43.59L10.3 9.45l-7.72 7.72c-.78.78-.78 2.05 0 2.83L4 21.41c.39.39.9.59 1.41.59.51 0 1.02-.2 1.41-.59l7.78-7.78 2.81-2.81c.8-.78.8-2.07 0-2.86zM5.41 20L4 18.59l7.72-7.72 1.47 1.35L5.41 20z\"/>\n",
       "  </svg>\n",
       "      </button>\n",
       "      \n",
       "  <style>\n",
       "    .colab-df-container {\n",
       "      display:flex;\n",
       "      flex-wrap:wrap;\n",
       "      gap: 12px;\n",
       "    }\n",
       "\n",
       "    .colab-df-convert {\n",
       "      background-color: #E8F0FE;\n",
       "      border: none;\n",
       "      border-radius: 50%;\n",
       "      cursor: pointer;\n",
       "      display: none;\n",
       "      fill: #1967D2;\n",
       "      height: 32px;\n",
       "      padding: 0 0 0 0;\n",
       "      width: 32px;\n",
       "    }\n",
       "\n",
       "    .colab-df-convert:hover {\n",
       "      background-color: #E2EBFA;\n",
       "      box-shadow: 0px 1px 2px rgba(60, 64, 67, 0.3), 0px 1px 3px 1px rgba(60, 64, 67, 0.15);\n",
       "      fill: #174EA6;\n",
       "    }\n",
       "\n",
       "    [theme=dark] .colab-df-convert {\n",
       "      background-color: #3B4455;\n",
       "      fill: #D2E3FC;\n",
       "    }\n",
       "\n",
       "    [theme=dark] .colab-df-convert:hover {\n",
       "      background-color: #434B5C;\n",
       "      box-shadow: 0px 1px 3px 1px rgba(0, 0, 0, 0.15);\n",
       "      filter: drop-shadow(0px 1px 2px rgba(0, 0, 0, 0.3));\n",
       "      fill: #FFFFFF;\n",
       "    }\n",
       "  </style>\n",
       "\n",
       "      <script>\n",
       "        const buttonEl =\n",
       "          document.querySelector('#df-51bf40c7-7ac8-4fb6-9d41-3d7b34de176b button.colab-df-convert');\n",
       "        buttonEl.style.display =\n",
       "          google.colab.kernel.accessAllowed ? 'block' : 'none';\n",
       "\n",
       "        async function convertToInteractive(key) {\n",
       "          const element = document.querySelector('#df-51bf40c7-7ac8-4fb6-9d41-3d7b34de176b');\n",
       "          const dataTable =\n",
       "            await google.colab.kernel.invokeFunction('convertToInteractive',\n",
       "                                                     [key], {});\n",
       "          if (!dataTable) return;\n",
       "\n",
       "          const docLinkHtml = 'Like what you see? Visit the ' +\n",
       "            '<a target=\"_blank\" href=https://colab.research.google.com/notebooks/data_table.ipynb>data table notebook</a>'\n",
       "            + ' to learn more about interactive tables.';\n",
       "          element.innerHTML = '';\n",
       "          dataTable['output_type'] = 'display_data';\n",
       "          await google.colab.output.renderOutput(dataTable, element);\n",
       "          const docLink = document.createElement('div');\n",
       "          docLink.innerHTML = docLinkHtml;\n",
       "          element.appendChild(docLink);\n",
       "        }\n",
       "      </script>\n",
       "    </div>\n",
       "  </div>\n",
       "  "
      ],
      "text/plain": [
       "     gender race/ethnicity parental level of education         lunch  \\\n",
       "0    female        group B           bachelor's degree      standard   \n",
       "1    female        group C                some college      standard   \n",
       "2    female        group B             master's degree      standard   \n",
       "3      male        group A          associate's degree  free/reduced   \n",
       "4      male        group C                some college      standard   \n",
       "..      ...            ...                         ...           ...   \n",
       "995  female        group E             master's degree      standard   \n",
       "996    male        group C                 high school  free/reduced   \n",
       "997  female        group C                 high school  free/reduced   \n",
       "998  female        group D                some college      standard   \n",
       "999  female        group D                some college  free/reduced   \n",
       "\n",
       "    test preparation course  math score  reading score  writing score  \n",
       "0                      none          72             72             74  \n",
       "1                 completed          69             90             88  \n",
       "2                      none          90             95             93  \n",
       "3                      none          47             57             44  \n",
       "4                      none          76             78             75  \n",
       "..                      ...         ...            ...            ...  \n",
       "995               completed          88             99             95  \n",
       "996                    none          62             55             55  \n",
       "997               completed          59             71             65  \n",
       "998               completed          68             78             77  \n",
       "999                    none          77             86             86  \n",
       "\n",
       "[1000 rows x 8 columns]"
      ]
     },
     "execution_count": 4,
     "metadata": {},
     "output_type": "execute_result"
    }
   ],
   "source": [
    "df = pd.read_csv('https://raw.githubusercontent.com/hse-econ-data-science/andan_2023/main/hw/hw04/data/students_exam.csv')\n",
    "df"
   ]
  },
  {
   "cell_type": "markdown",
   "id": "lightweight-astrology",
   "metadata": {
    "id": "lightweight-astrology"
   },
   "source": [
    "__а)__ __[5 баллов]__  Проверьте гипотезу о том, что студенты, получившие высшее образование (associate's degree, bachelor's degree, master's degree) в среднем пишут математику на большее число баллов, чем студенты со средним образованием (high school, some high school, some college). \n",
    "\n",
    "Уровень значимости: $5\\%$\n",
    "\n",
    "$$\n",
    "\\begin{aligned}\n",
    "& H_0: \\mu_{high} = \\mu_{middle} \\\\\n",
    "& H_1: \\mu_{high} > \\mu_{middle}\n",
    "\\end{aligned}\n",
    "$$\n",
    "\n",
    "__Подсказка:__ В тесте 2 выборки: студенты с высшим образованием и со средним. Подумайте о том, как эти выборки связаны между собой. Также обратите внимание на альтернативную гипотезу!"
   ]
  },
  {
   "cell_type": "code",
   "execution_count": 5,
   "id": "instant-venice",
   "metadata": {
    "colab": {
     "base_uri": "https://localhost:8080/"
    },
    "id": "instant-venice",
    "outputId": "02fa73f4-3d22-4f53-db65-2a5eff32360e"
   },
   "outputs": [
    {
     "name": "stdout",
     "output_type": "stream",
     "text": [
      "Наблюдаемое значение 4.309 больше критического 1.64 => нулевая гипотеза  отвергается\n"
     ]
    }
   ],
   "source": [
    "\n",
    "high = df[df.loc[:,\"parental level of education\"].isin([\"associate's degree\" , \"bachelor's degree\" , \"master's degree\"])]\n",
    "middle =  df[df.loc[:,\"parental level of education\"].isin([\"high school\", \"some high school\", \"some college\"])]\n",
    "high_m_score=high['math score']\n",
    "middle_m_score = middle['math score']\n",
    "alpha = 0.05 \n",
    "\n",
    "diff = high_m_score.mean() - middle_m_score.mean() \n",
    "diff_std = np.sqrt(high_m_score.var(ddof=1)/high_m_score.size + middle_m_score.var(ddof=1)/middle_m_score.size)\n",
    "z_obs = diff/diff_std\n",
    "z_crit = sts.norm.ppf(1 - alpha) #односторонняя\n",
    "print(f'Наблюдаемое значение {z_obs:.5} больше критического {z_crit:.3} => нулевая гипотеза  отвергается')\n"
   ]
  },
  {
   "cell_type": "code",
   "execution_count": 6,
   "id": "wcQoU1gocsM9",
   "metadata": {
    "colab": {
     "base_uri": "https://localhost:8080/"
    },
    "id": "wcQoU1gocsM9",
    "outputId": "904b4c05-63f4-4327-be27-b7173b340ff9"
   },
   "outputs": [
    {
     "name": "stdout",
     "output_type": "stream",
     "text": [
      "Наблюдаемое значение 4.3111 больше критического 1.65 => нулевая гипотеза  отвергается\n"
     ]
    }
   ],
   "source": [
    "#точный тест, если мы предполагаем, что неизвестные дисперсии равны - видим, что чиселки почти такие же, результат идентичный - гипотеза отвергается\n",
    "from statsmodels.stats.weightstats import ttest_ind\n",
    "\n",
    "t_obs, p_val, _ = ttest_ind(high_m_score, middle_m_score, value=0, alternative='larger')\n",
    "t_crit = sts.t(df = high_m_score.size + middle_m_score.size - 2).ppf(1 - alpha)\n",
    "print(f'Наблюдаемое значение {t_obs:.5} больше критического {t_crit:.3} => нулевая гипотеза  отвергается')"
   ]
  },
  {
   "cell_type": "markdown",
   "id": "0a70e632",
   "metadata": {
    "id": "0a70e632"
   },
   "source": [
    "__Почему вы выбрали для проверки гипотезы именно тот критерий, что вы выбрали? Какие у него предпосылки? Все ли они выполняются с данными?__\n",
    "\n",
    "__Ответ:__ Нашла доверительный интервал. Гипотеза правосторонняя, поэтому сравниваем с положительной z_crit. Расчетное значение в ДИ не попадает - нулевая гипотеза выполняется. Использовала асимптотический z-test, основанный на ЦПТ. Чтоб его использовать, размер выборки должен быть большим (у нас все ок), данные должны прийти из нормального распределения, стандартное отклонение должно быть известно."
   ]
  },
  {
   "cell_type": "markdown",
   "id": "adequate-lithuania",
   "metadata": {
    "id": "adequate-lithuania"
   },
   "source": [
    "__б)__ __[5 баллов]__  Правда ли что в среднем студенты пишут экзамен по `reading` так же, как и по `math`? \n",
    "\n",
    "Уровень значимости: $5\\%$\n",
    "\n",
    "$$\n",
    "\\begin{aligned}\n",
    "& H_0: \\mu_{math} = \\mu_{reading} \\\\\n",
    "& H_1: \\mu_{math} \\neq \\mu_{reading}\n",
    "\\end{aligned}\n",
    "$$\n",
    "\n",
    "__Подсказка:__ В тесте 2 выборки: баллы по чтению и баллы по математике. Подумайте о том, как эти выборки связаны между собой. Также обратите внимание на альтернативную гипотезу!"
   ]
  },
  {
   "cell_type": "code",
   "execution_count": 7,
   "id": "indoor-objective",
   "metadata": {
    "colab": {
     "base_uri": "https://localhost:8080/"
    },
    "id": "indoor-objective",
    "outputId": "d9db1f30-a860-4ed9-c411-daab38234dfb"
   },
   "outputs": [
    {
     "name": "stdout",
     "output_type": "stream",
     "text": [
      "Наблюдаемое значение -4.6271 меньше критического -1.96 => нулевая гипотеза  отвергается\n"
     ]
    }
   ],
   "source": [
    "m_score = df['math score']\n",
    "r_score = df['reading score']\n",
    "alpha = 0.05 \n",
    "\n",
    "diff_2 = m_score.mean() - r_score.mean() #чекнуть\n",
    "diff_std_2 = np.sqrt(m_score.var(ddof=1)/m_score.size + r_score.var(ddof=1)/r_score.size)\n",
    "z_obs_2 = diff_2/diff_std_2\n",
    "z_crit_2 = -sts.norm.ppf(1 - alpha/2) \n",
    "print(f'Наблюдаемое значение {z_obs_2:.5} меньше критического {z_crit_2:.3} => нулевая гипотеза  отвергается')\n"
   ]
  },
  {
   "cell_type": "code",
   "execution_count": 8,
   "id": "TW-QXdmjf-iS",
   "metadata": {
    "colab": {
     "base_uri": "https://localhost:8080/"
    },
    "id": "TW-QXdmjf-iS",
    "outputId": "a1d43d54-5565-4a27-fe4e-7c202c41a168"
   },
   "outputs": [
    {
     "name": "stdout",
     "output_type": "stream",
     "text": [
      "Наблюдаемое значение -4.6271 больше критического -1.96 => нулевая гипотеза  отвергается\n"
     ]
    }
   ],
   "source": [
    "from statsmodels.stats.weightstats import ttest_ind\n",
    "\n",
    "t_obs, p_val, _ = ttest_ind(m_score, r_score, value=0, alternative='two-sided')\n",
    "t_crit = sts.t(df = m_score.size + m_score.size - 2).ppf(alpha/2)\n",
    "print(f'Наблюдаемое значение {t_obs:.5} больше критического {t_crit:.3} => нулевая гипотеза  отвергается')"
   ]
  },
  {
   "cell_type": "markdown",
   "id": "838d98aa",
   "metadata": {
    "id": "838d98aa"
   },
   "source": [
    "__Почему вы выбрали для проверки гипотезы именно тот критерий, что вы выбрали? Какие у него предпосылки? Все ли они выполняются с данными?__\n",
    "\n",
    "__Ответ:__ Провела и z-test асимптотический, и точный t-test. Для z-testa предпосылки - все те, что были выше. t-test используется тогда, когда мало данных, или когда предполагается, что дисперсии неизвестны, но равны"
   ]
  },
  {
   "cell_type": "markdown",
   "id": "hidden-seattle",
   "metadata": {
    "id": "hidden-seattle"
   },
   "source": [
    "## Задача №2:  О мышах и людях"
   ]
  },
  {
   "cell_type": "markdown",
   "id": "elegant-rates",
   "metadata": {
    "id": "elegant-rates"
   },
   "source": [
    "<img src=\"https://github.com/hse-econ-data-science/andan_2023/blob/main/hw/hw04/images/vagon.jpeg?raw=true\" width=\"400\" align='left'>"
   ]
  },
  {
   "cell_type": "markdown",
   "id": "substantial-regulation",
   "metadata": {
    "id": "substantial-regulation"
   },
   "source": [
    "Для изучения аспектов процесса принятия моральных решений психологи уже много лет используют этические дилеммы, с помощью которых оценивают действия людей в гипотетических ситуациях. Один из самых известных примеров — это [проблема вагонетки,](https://ru.wikipedia.org/wiki/Проблема_вагонетки) в которой необходимо принять решение о том, стоит ли пожертвовать одним человеком для спасения пятерых.\n",
    "\n",
    "Бельгийские психологи воплотили дилемму в реальную жизнь. Участники эксперимента должны были выбрать, ударить током пять мышей или одну мышь. Эксперимент проходил следующим образом. Участника сажали перед двумя клетками, в одной из которых сидели пять мышей, а в другой — одна. Перед клетками стоял ноутбук с $20$-секундным таймером: участникам сообщили, что по истечении этих $20$ секунд в клетку с пятью мышами пустят ток, и мыши получат не смертельный, но очень болезненный удар. Пока время идет, участник может нажать на кнопку: в этом случае ток пустят по клетке с одной мышью. В исследовании использовали живых мышей. \n",
    "\n",
    "Удары тока были ненастоящими: сразу же после «удара» участников сопроводили в отдельную комнату, где разъяснили им, что мыши в полном порядке и током их не били (об этом заранее догадались только $12$ участников). В решении реальной проблемы вагонетки приняли участие $192$ человека, а еще $83$ решали такую же задачку, но гипотетическую (на бумаге). Все участники также прошли онлайн-опросы, в ходе которых учёные собрали о респондентах кучу дополнительной информации. \n",
    "\n",
    "В файле `mouse.csv` лежит информация о том, как прошёл эксперимент. Нас будут интересовать столбцы: \n",
    "\n",
    "* __STUDY:__ какую проблему вагонетки решал человек $1$, если на бумаге и $2$, если реальную\n",
    "* __AGE:__ возраст респондента \n",
    "* __GENDER:__ пол респондента\n",
    "* __DECISION:__ решение дилеммы ($1$ - жать на кнопу, $0$ - не жать) \n",
    "* __RT:__ время, которое респондент потратил, чтобы нажать на кнопку \n",
    "\n",
    "Подробное описание данных, сами данные и даже код на R, использованный при оценивании моделей, можно найти в [репозитории исследования.](https://osf.io/kvb99/) В статье авторы строили несколько логистических регрессий, чтобы очистить эффект от психологических особенностей респондентов. Про подобные приёмы очистки мы немного поговорим позже.  Также более подробно про исследование [можно почитать на N + 1.](https://nplus1.ru/news/2018/05/11/mice-trolley)"
   ]
  },
  {
   "cell_type": "code",
   "execution_count": 9,
   "id": "canadian-irish",
   "metadata": {
    "colab": {
     "base_uri": "https://localhost:8080/",
     "height": 424
    },
    "id": "canadian-irish",
    "outputId": "f3024815-19eb-4a4c-b910-e7d7bd88fd88"
   },
   "outputs": [
    {
     "data": {
      "text/html": [
       "\n",
       "  <div id=\"df-5475bab7-daee-4cd1-bc83-026754b87cb8\">\n",
       "    <div class=\"colab-df-container\">\n",
       "      <div>\n",
       "<style scoped>\n",
       "    .dataframe tbody tr th:only-of-type {\n",
       "        vertical-align: middle;\n",
       "    }\n",
       "\n",
       "    .dataframe tbody tr th {\n",
       "        vertical-align: top;\n",
       "    }\n",
       "\n",
       "    .dataframe thead th {\n",
       "        text-align: right;\n",
       "    }\n",
       "</style>\n",
       "<table border=\"1\" class=\"dataframe\">\n",
       "  <thead>\n",
       "    <tr style=\"text-align: right;\">\n",
       "      <th></th>\n",
       "      <th>STUDY</th>\n",
       "      <th>AGE</th>\n",
       "      <th>GENDER</th>\n",
       "      <th>DECISION</th>\n",
       "      <th>RT</th>\n",
       "    </tr>\n",
       "  </thead>\n",
       "  <tbody>\n",
       "    <tr>\n",
       "      <th>3</th>\n",
       "      <td>1</td>\n",
       "      <td>21</td>\n",
       "      <td>0</td>\n",
       "      <td>1.0</td>\n",
       "      <td>9.212427</td>\n",
       "    </tr>\n",
       "    <tr>\n",
       "      <th>4</th>\n",
       "      <td>1</td>\n",
       "      <td>20</td>\n",
       "      <td>0</td>\n",
       "      <td>1.0</td>\n",
       "      <td>17.071711</td>\n",
       "    </tr>\n",
       "    <tr>\n",
       "      <th>5</th>\n",
       "      <td>1</td>\n",
       "      <td>21</td>\n",
       "      <td>1</td>\n",
       "      <td>1.0</td>\n",
       "      <td>9.827884</td>\n",
       "    </tr>\n",
       "    <tr>\n",
       "      <th>6</th>\n",
       "      <td>1</td>\n",
       "      <td>23</td>\n",
       "      <td>1</td>\n",
       "      <td>1.0</td>\n",
       "      <td>10.143030</td>\n",
       "    </tr>\n",
       "    <tr>\n",
       "      <th>7</th>\n",
       "      <td>1</td>\n",
       "      <td>20</td>\n",
       "      <td>1</td>\n",
       "      <td>1.0</td>\n",
       "      <td>7.447534</td>\n",
       "    </tr>\n",
       "    <tr>\n",
       "      <th>...</th>\n",
       "      <td>...</td>\n",
       "      <td>...</td>\n",
       "      <td>...</td>\n",
       "      <td>...</td>\n",
       "      <td>...</td>\n",
       "    </tr>\n",
       "    <tr>\n",
       "      <th>286</th>\n",
       "      <td>2</td>\n",
       "      <td>20</td>\n",
       "      <td>1</td>\n",
       "      <td>1.0</td>\n",
       "      <td>NaN</td>\n",
       "    </tr>\n",
       "    <tr>\n",
       "      <th>287</th>\n",
       "      <td>2</td>\n",
       "      <td>21</td>\n",
       "      <td>1</td>\n",
       "      <td>1.0</td>\n",
       "      <td>NaN</td>\n",
       "    </tr>\n",
       "    <tr>\n",
       "      <th>288</th>\n",
       "      <td>2</td>\n",
       "      <td>19</td>\n",
       "      <td>0</td>\n",
       "      <td>0.0</td>\n",
       "      <td>NaN</td>\n",
       "    </tr>\n",
       "    <tr>\n",
       "      <th>289</th>\n",
       "      <td>2</td>\n",
       "      <td>21</td>\n",
       "      <td>0</td>\n",
       "      <td>1.0</td>\n",
       "      <td>NaN</td>\n",
       "    </tr>\n",
       "    <tr>\n",
       "      <th>290</th>\n",
       "      <td>2</td>\n",
       "      <td>19</td>\n",
       "      <td>0</td>\n",
       "      <td>1.0</td>\n",
       "      <td>NaN</td>\n",
       "    </tr>\n",
       "  </tbody>\n",
       "</table>\n",
       "<p>275 rows × 5 columns</p>\n",
       "</div>\n",
       "      <button class=\"colab-df-convert\" onclick=\"convertToInteractive('df-5475bab7-daee-4cd1-bc83-026754b87cb8')\"\n",
       "              title=\"Convert this dataframe to an interactive table.\"\n",
       "              style=\"display:none;\">\n",
       "        \n",
       "  <svg xmlns=\"http://www.w3.org/2000/svg\" height=\"24px\"viewBox=\"0 0 24 24\"\n",
       "       width=\"24px\">\n",
       "    <path d=\"M0 0h24v24H0V0z\" fill=\"none\"/>\n",
       "    <path d=\"M18.56 5.44l.94 2.06.94-2.06 2.06-.94-2.06-.94-.94-2.06-.94 2.06-2.06.94zm-11 1L8.5 8.5l.94-2.06 2.06-.94-2.06-.94L8.5 2.5l-.94 2.06-2.06.94zm10 10l.94 2.06.94-2.06 2.06-.94-2.06-.94-.94-2.06-.94 2.06-2.06.94z\"/><path d=\"M17.41 7.96l-1.37-1.37c-.4-.4-.92-.59-1.43-.59-.52 0-1.04.2-1.43.59L10.3 9.45l-7.72 7.72c-.78.78-.78 2.05 0 2.83L4 21.41c.39.39.9.59 1.41.59.51 0 1.02-.2 1.41-.59l7.78-7.78 2.81-2.81c.8-.78.8-2.07 0-2.86zM5.41 20L4 18.59l7.72-7.72 1.47 1.35L5.41 20z\"/>\n",
       "  </svg>\n",
       "      </button>\n",
       "      \n",
       "  <style>\n",
       "    .colab-df-container {\n",
       "      display:flex;\n",
       "      flex-wrap:wrap;\n",
       "      gap: 12px;\n",
       "    }\n",
       "\n",
       "    .colab-df-convert {\n",
       "      background-color: #E8F0FE;\n",
       "      border: none;\n",
       "      border-radius: 50%;\n",
       "      cursor: pointer;\n",
       "      display: none;\n",
       "      fill: #1967D2;\n",
       "      height: 32px;\n",
       "      padding: 0 0 0 0;\n",
       "      width: 32px;\n",
       "    }\n",
       "\n",
       "    .colab-df-convert:hover {\n",
       "      background-color: #E2EBFA;\n",
       "      box-shadow: 0px 1px 2px rgba(60, 64, 67, 0.3), 0px 1px 3px 1px rgba(60, 64, 67, 0.15);\n",
       "      fill: #174EA6;\n",
       "    }\n",
       "\n",
       "    [theme=dark] .colab-df-convert {\n",
       "      background-color: #3B4455;\n",
       "      fill: #D2E3FC;\n",
       "    }\n",
       "\n",
       "    [theme=dark] .colab-df-convert:hover {\n",
       "      background-color: #434B5C;\n",
       "      box-shadow: 0px 1px 3px 1px rgba(0, 0, 0, 0.15);\n",
       "      filter: drop-shadow(0px 1px 2px rgba(0, 0, 0, 0.3));\n",
       "      fill: #FFFFFF;\n",
       "    }\n",
       "  </style>\n",
       "\n",
       "      <script>\n",
       "        const buttonEl =\n",
       "          document.querySelector('#df-5475bab7-daee-4cd1-bc83-026754b87cb8 button.colab-df-convert');\n",
       "        buttonEl.style.display =\n",
       "          google.colab.kernel.accessAllowed ? 'block' : 'none';\n",
       "\n",
       "        async function convertToInteractive(key) {\n",
       "          const element = document.querySelector('#df-5475bab7-daee-4cd1-bc83-026754b87cb8');\n",
       "          const dataTable =\n",
       "            await google.colab.kernel.invokeFunction('convertToInteractive',\n",
       "                                                     [key], {});\n",
       "          if (!dataTable) return;\n",
       "\n",
       "          const docLinkHtml = 'Like what you see? Visit the ' +\n",
       "            '<a target=\"_blank\" href=https://colab.research.google.com/notebooks/data_table.ipynb>data table notebook</a>'\n",
       "            + ' to learn more about interactive tables.';\n",
       "          element.innerHTML = '';\n",
       "          dataTable['output_type'] = 'display_data';\n",
       "          await google.colab.output.renderOutput(dataTable, element);\n",
       "          const docLink = document.createElement('div');\n",
       "          docLink.innerHTML = docLinkHtml;\n",
       "          element.appendChild(docLink);\n",
       "        }\n",
       "      </script>\n",
       "    </div>\n",
       "  </div>\n",
       "  "
      ],
      "text/plain": [
       "     STUDY  AGE  GENDER  DECISION         RT\n",
       "3        1   21       0       1.0   9.212427\n",
       "4        1   20       0       1.0  17.071711\n",
       "5        1   21       1       1.0   9.827884\n",
       "6        1   23       1       1.0  10.143030\n",
       "7        1   20       1       1.0   7.447534\n",
       "..     ...  ...     ...       ...        ...\n",
       "286      2   20       1       1.0        NaN\n",
       "287      2   21       1       1.0        NaN\n",
       "288      2   19       0       0.0        NaN\n",
       "289      2   21       0       1.0        NaN\n",
       "290      2   19       0       1.0        NaN\n",
       "\n",
       "[275 rows x 5 columns]"
      ]
     },
     "execution_count": 9,
     "metadata": {},
     "output_type": "execute_result"
    }
   ],
   "source": [
    "df = pd.read_csv('https://raw.githubusercontent.com/hse-econ-data-science/andan_2023/main/hw/hw04/data/mouse.csv', sep='\\t')\n",
    "\n",
    "# отбираем нужные колонки\n",
    "df = df[['STUDY', 'AGE', 'GENDER', 'DECISION', 'RT']]\n",
    "\n",
    "# удаляем пропуски по колонке DECISION (то есть тех, кто не смог принять решение)\n",
    "df = df[~df.DECISION.isnull()]\n",
    "df"
   ]
  },
  {
   "cell_type": "markdown",
   "id": "aware-regression",
   "metadata": {
    "id": "aware-regression"
   },
   "source": [
    "__а)__ __[5 баллов]__ Попытаемся ответить на тот же вопрос, что и исследователи. В какой из двух ситуаций респонденты чаще принимают решение нажать кнопку: в реальной или на бумаге?\n",
    "\n",
    "Уровень значимости: $5\\%$\n",
    "\n",
    "$$\n",
    "\\begin{aligned}\n",
    "&H_0: \\hspace{2mm} p_1 = p_2 \\hspace{2mm} \\text{(На бумаге и в реальности жмут на кнопку одинаково часто)} \\\\\n",
    "&H_1: \\hspace{2mm} p_1 > p_2  \\hspace{2mm} \\text{(На бумаге на кнопку жмут чаще)}\n",
    "\\end{aligned}\n",
    "$$"
   ]
  },
  {
   "cell_type": "code",
   "execution_count": 10,
   "id": "AmopN_IGHgm_",
   "metadata": {
    "id": "AmopN_IGHgm_"
   },
   "outputs": [],
   "source": [
    "paper = df[df.STUDY==1]\n",
    "real = df[df.STUDY==2]\n",
    "paper_dec = paper.DECISION\n",
    "real_dec = real.DECISION\n"
   ]
  },
  {
   "cell_type": "code",
   "execution_count": 11,
   "id": "GZ4JlhcaOdie",
   "metadata": {
    "colab": {
     "base_uri": "https://localhost:8080/"
    },
    "id": "GZ4JlhcaOdie",
    "outputId": "18f36073-f518-4ade-a1ae-e54f348f7760"
   },
   "outputs": [
    {
     "name": "stdout",
     "output_type": "stream",
     "text": [
      "2.38 не попадает в (-1.64 , 1.64) => Нулевая гипотеза отвергается\n"
     ]
    }
   ],
   "source": [
    "alpha = 0.05                                       \n",
    "n1,n2 = paper_dec.size, real_dec.size                      \n",
    "diff = paper_dec.mean() - real_dec.mean()                                       \n",
    "P = (paper_dec.sum() + real_dec.sum())/(n1 + n2)           \n",
    "diff_std = np.sqrt(P*(1 - P)*(1/n1 + 1/n2))       \n",
    "z_obs = diff/diff_std                              \n",
    "z_crit = sts.norm.ppf(1 - alpha)               \n",
    "\n",
    "print(f'{z_obs:.3} не попадает в ({-z_crit:.3} , {z_crit:.3}) => Нулевая гипотеза отвергается')\n"
   ]
  },
  {
   "cell_type": "code",
   "execution_count": 12,
   "id": "regular-action",
   "metadata": {
    "id": "regular-action"
   },
   "outputs": [],
   "source": [
    "def asy_mean_test(mean_hat, std_hat, mu_0=0,  #из сема полностью\n",
    "                   alpha=0.05, alternative='two-sided', margin=3):\n",
    "    \"\"\"\n",
    "        Асимптотический тест для равенства средних\n",
    "    \"\"\"\n",
    "    \n",
    "    z_obs = (mean_hat - mu_0)/std_hat\n",
    "    \n",
    "    if alternative == 'two-sided':\n",
    "        p_value = 2 * (1 - sts.norm().cdf(np.abs(z_obs)))\n",
    "        z_crit = sts.norm().ppf(1 - alpha/2)\n",
    "        \n",
    "        statistics = ['-z_crit', 'z_crit', '-z_obs', 'z_obs']\n",
    "        params = dict(zip(statistics, [(-z_crit, -0.6, -margin, -z_crit, 'b'), \n",
    "                                       (z_crit, 0.05, z_crit, margin, 'b'),\n",
    "                                       (-z_obs, -0.6, -margin, -z_obs, 'r'), \n",
    "                                       (z_obs, 0.1, z_obs, margin, 'r')]))\n",
    "    \n",
    "    if alternative == 'less':\n",
    "        p_value = sts.norm().cdf(z_obs)\n",
    "        z_crit = sts.norm().ppf(1 - alpha)\n",
    "        \n",
    "        statistics = ['-z_crit', '-z_obs']\n",
    "        params = dict(zip(statistics, [(-z_crit, -0.6, -margin, -z_crit, 'b'), \n",
    "                                       (-z_obs, -0.6, -margin, -z_obs, 'r')]))\n",
    "\n",
    "    if alternative == 'larger':\n",
    "        p_value = 1 - sts.norm().cdf(z_obs)\n",
    "        z_crit = sts.norm().ppf(1 - alpha)\n",
    "        \n",
    "        statistics = ['z_crit', 'z_obs']\n",
    "        params = dict(zip(statistics, [(z_crit, 0.05, z_crit, margin, 'b'),\n",
    "                                       (z_obs, 0.1, z_obs, margin, 'r')]))\n",
    "    \n",
    "    \n",
    "    plt.figure(figsize = (8, 4))\n",
    "    x = np.linspace(-margin, margin)\n",
    "    pdf = sts.norm().pdf(x)\n",
    "\n",
    "    plt.plot(x, pdf, color=\"black\")\n",
    "    plt.ylabel(\"$f(x)$\", fontsize=16)\n",
    "    plt.xlabel(\"$x$\", fontsize=16)\n",
    "    y_max = plt.ylim()[1]\n",
    "    \n",
    "    for i in range(len(statistics)):\n",
    "        statistic, text_margin, left_bound, right_bound, color = params[statistics[i]]\n",
    "        \n",
    "        plt.axvline(statistic, color=color, linestyle=\"--\", lw=2)\n",
    "        h = 0.8 if statistics[i].split('_')[-1] == 'crit' else 0.6\n",
    "        plt.text(statistic + text_margin, \n",
    "                 h*y_max, round(statistic, 2), color=color, fontsize=16)\n",
    "        \n",
    "        xq = np.linspace(left_bound, right_bound)\n",
    "        yq = sts.norm().pdf(xq)\n",
    "        plt.fill_between(xq, 0, yq, color=color, alpha=0.2)\n",
    "    \n",
    "    return p_value"
   ]
  },
  {
   "cell_type": "code",
   "execution_count": 15,
   "id": "Q1tlJuohPM5C",
   "metadata": {
    "colab": {
     "base_uri": "https://localhost:8080/",
     "height": 415
    },
    "id": "Q1tlJuohPM5C",
    "outputId": "943cd168-cc7c-4717-ebb4-3537eb61a840"
   },
   "outputs": [
    {
     "name": "stdout",
     "output_type": "stream",
     "text": [
      "Значение p-val 0.008701077805778001 меньше 0.05 -> нулевая гипотеза отвергается\n"
     ]
    },
    {
     "data": {
      "image/png": "[encoded data removed]",
      "text/plain": [
       "<Figure size 800x400 with 1 Axes>"
      ]
     },
     "metadata": {},
     "output_type": "display_data"
    }
   ],
   "source": [
    "ans= asy_mean_test(diff, diff_std, mu_0=0, alpha=0.05, alternative='larger')\n",
    "print(f'Значение p-val {ans} меньше {alpha} -> нулевая гипотеза отвергается') #тот же результат, полученный путем сравнения п-значения и уровня значимости"
   ]
  },
  {
   "cell_type": "markdown",
   "id": "3f31e7f4",
   "metadata": {
    "id": "3f31e7f4"
   },
   "source": [
    "__Почему вы выбрали для проверки гипотезы именно тот критерий, что вы выбрали? Какие у него предпосылки? Все ли они выполняются с данными?__\n",
    "\n",
    "__Ответ:__ Все про асимптотический z-test остается неизменным - здесь данных меньше, но достаточно, чтобы его использовать.\n",
    "При использовании функции результат остался тем же: значение p-value, равное 0.008701077805778001 меньше уровня значимости = 0.05. Следовательно, нулевая гипотеза отвергается."
   ]
  },
  {
   "cell_type": "markdown",
   "id": "digital-segment",
   "metadata": {
    "id": "digital-segment"
   },
   "source": [
    "__б)__ __[5 баллов]__  Кровожадные люди быстро берут на себя ответственность за удар мышки током. Будем считать, что кровожадные люди принимают решение менее, чем за пять секунд. Правда ли, что люди по своей природе кровожадные? \n",
    "\n",
    "Уровень значимости: $5\\%$\n",
    "\n",
    "$$\n",
    "\\begin{aligned}\n",
    "&H_0: \\hspace{2mm} \\mu \\le 5 \\hspace{2mm} \\text{(Люди кровожадны)} \\\\\n",
    "&H_1: \\hspace{2mm} \\mu > 5  \\hspace{2mm} \\text{(Люди не кровожадны)}\n",
    "\\end{aligned}\n",
    "$$"
   ]
  },
  {
   "cell_type": "code",
   "execution_count": 16,
   "id": "congressional-stadium",
   "metadata": {
    "colab": {
     "base_uri": "https://localhost:8080/"
    },
    "id": "congressional-stadium",
    "outputId": "24d790e0-383d-4b4c-d7db-be675a978722"
   },
   "outputs": [
    {
     "name": "stdout",
     "output_type": "stream",
     "text": [
      "Наблюдаемое значение 12.974895950977869 больше критического 1.6448536269514722 => нулевая гипотеза отвергается\n"
     ]
    }
   ],
   "source": [
    "\n",
    "from statsmodels.stats.weightstats import ztest\n",
    "z_r = ztest(df.RT.dropna() , value=5, alternative='larger')[0] #нашла расчетное значение, удалив строки, где нет инфы в столбце RT\n",
    "print(f'Наблюдаемое значение {z_r} больше критического {sts.norm.ppf(1 - alpha) } => нулевая гипотеза отвергается')\n"
   ]
  },
  {
   "cell_type": "markdown",
   "id": "2083c36f",
   "metadata": {
    "id": "2083c36f"
   },
   "source": [
    "__Почему вы выбрали для проверки гипотезы именно тот критерий, что вы выбрали? Какие у него предпосылки? Все ли они выполняются с данными?__\n",
    "\n",
    "__Ответ:__ все предпосылки про z-test остаются теми же (мы предполагаем, что данные пришли из нормального распределения, случайные величины независимо и одинаково распределены, их количества достаточно, чтобы использовать тест)"
   ]
  },
  {
   "cell_type": "markdown",
   "id": "8caf4413",
   "metadata": {
    "id": "8caf4413"
   },
   "source": [
    "## Задача №3:  Парадокс\n",
    "\n",
    "<img src=\"https://github.com/hse-econ-data-science/andan_2023/blob/main/hw/hw04/images/simpson.jpg?raw=true\" width=\"350\" align='left'>"
   ]
  },
  {
   "cell_type": "markdown",
   "id": "106b575e",
   "metadata": {
    "id": "106b575e"
   },
   "source": [
    "Помимо решения задач и применения различных функций из библиотек необходимо очень аккуратно работать с данным и понимать, какие действия корректны, а какие нет. Перед вами результаты медицинских исследований: \n",
    "\n",
    "- из $1650$ мужчин, принимавших лекарство, выздоровели $770$, \n",
    "- из $223$ мужчин, не принимавших лекарство, выздоровели $88$,\n",
    "- из $245$ женщин, принимавших лекарство, выздоровели $165$,\n",
    "- из $750$ женщин, не принимавших лекарство женщин, выздоровели $440$.\n",
    "\n",
    "Необходимо найти ответы на следующие вопросы: \n",
    "\n",
    "1. Влияет ли лекарство на мужчин?\n",
    "2. Влияет ли лекарство на женщин? \n",
    "3. Влияет ли лекарство на людей обоих полов в целом?\n",
    "\n",
    "Будем считать, что исследование проводилось методом двойного слепого тестирования. Врач не знал, даёт ли он пациенту плацебо или лекарство, пациент не знал, пьёт ли он плацебо или лекарство. "
   ]
  },
  {
   "cell_type": "markdown",
   "id": "23ecaff0",
   "metadata": {
    "id": "23ecaff0"
   },
   "source": [
    "Запишем данные в табличку. Пусть $A$ — принимавшие лекарство, $\\overline{A}$ — не принимавшие лекарство, $B$ — выздоровевшие, $\\overline{B}$ — не выздоровевшие."
   ]
  },
  {
   "cell_type": "markdown",
   "id": "17dfd35c",
   "metadata": {
    "id": "17dfd35c"
   },
   "source": [
    "<!--<img width=\"60%\" src=\"pics/pic2.png\">-->\n",
    "<table>\n",
    "<tr><td>\n",
    "    \n",
    "|Мужчины| $B$ |  $\\overline{B}$|\n",
    "|--|--|--|\n",
    "|$A$| 770 | 880 |\n",
    "|$\\overline{A}$| 88 | 135 |\n",
    "\n",
    "</td><td>\n",
    "    \n",
    "|Женщины| $B$ |  $\\overline{B}$|\n",
    "|--|--|--|\n",
    "|$A$| 165 | 80 |\n",
    "|$\\overline{A}$| 440 | 310 |\n",
    "\n",
    "</td><td>\n",
    "\n",
    "|Вместе| $B$ |  $\\overline{B}$|\n",
    "|--|--|--|\n",
    "|$A$| 935 | 960 |\n",
    "|$\\overline{A}$| 528 | 445 |\n",
    "\n",
    "</td></tr> </table>"
   ]
  },
  {
   "cell_type": "markdown",
   "id": "3a59b9fb",
   "metadata": {
    "id": "3a59b9fb"
   },
   "source": [
    "Для решения задачи воспользуйтесь критерием хи-квадрат Пирсона. Мы его не разбирали на семинарах, однако на курсе матстата он у вас был. Вспомнить как он работает можно [в этом видео.](https://www.youtube.com/watch?v=bws1CB9XZ6E&list=PLCf-cQCe1FRyCcf47wwBlDObNcz4ud2_L&index=10) Посмотреть на код можно [в этом видео.](https://www.youtube.com/watch?v=H3NtBN_o-hk&list=PLCf-cQCe1FRyCcf47wwBlDObNcz4ud2_L&index=12) Тетрадку с кодом можно [найти тут.](https://github.com/FUlyankin/matstat-AB/blob/main/week10_nonparam_bootstrap/04_05_python_kolmogorov_pearson.ipynb)\n",
    "\n",
    "Тест поможет нам понять, есть ли у лекарства какой-то эффект. Применить тест в python помогает функция `chi2_contingency` из пакета `scipy.stats`. Используйте её с параметром `correction=False`."
   ]
  },
  {
   "cell_type": "markdown",
   "id": "122026a5",
   "metadata": {
    "id": "122026a5"
   },
   "source": [
    "__а)__ __[5 баллов]__ Давайте попробуем найти ответ на вопрос, есть ли эффект от лекарства для мужчин? "
   ]
  },
  {
   "cell_type": "markdown",
   "id": "70e0267e",
   "metadata": {
    "id": "70e0267e"
   },
   "source": [
    "Давайте предварительно посчитаем долю выздровевших мужчин, которые принимали лекарство и долю выздровевших мужчин, которые не принимали лекартсво. Сравните эти доли."
   ]
  },
  {
   "cell_type": "code",
   "execution_count": 30,
   "id": "68fa518b",
   "metadata": {
    "colab": {
     "base_uri": "https://localhost:8080/"
    },
    "id": "68fa518b",
    "outputId": "26ce6ea4-6afc-490b-abf3-8b272636bbe6"
   },
   "outputs": [
    {
     "data": {
      "text/plain": [
       "(0.4666666666666667, 0.39461883408071746)"
      ]
     },
     "execution_count": 30,
     "metadata": {},
     "output_type": "execute_result"
    }
   ],
   "source": [
    "took = 770/(770+880)\n",
    "didnottake = 88/(88+135)\n",
    "took, didnottake\n",
    "#больше мужчин, которые принимали лекарство и выздоровели, чем тех, кто не принимал и выздоровел"
   ]
  },
  {
   "cell_type": "markdown",
   "id": "edf20707",
   "metadata": {
    "id": "edf20707"
   },
   "source": [
    "Создадим матрицу размера $2 \\times 2.$ Внесём в неё частоты, полученные для мужчин."
   ]
  },
  {
   "cell_type": "code",
   "execution_count": 18,
   "id": "2119e07c",
   "metadata": {
    "colab": {
     "base_uri": "https://localhost:8080/"
    },
    "id": "2119e07c",
    "outputId": "bbcba406-146f-4eb9-97a5-9675bb4101ea"
   },
   "outputs": [
    {
     "data": {
      "text/plain": [
       "array([[770, 880],\n",
       "       [ 88, 135]])"
      ]
     },
     "execution_count": 18,
     "metadata": {},
     "output_type": "execute_result"
    }
   ],
   "source": [
    "men = np.array([[770,880],[88,135]])\n",
    "men"
   ]
  },
  {
   "cell_type": "markdown",
   "id": "18d253fb",
   "metadata": {
    "id": "18d253fb"
   },
   "source": [
    "Примените тест с параметром `correction=False` и сделайте выводы на уровне значимости $5\\%.$"
   ]
  },
  {
   "cell_type": "code",
   "execution_count": 35,
   "id": "6b4bacfd",
   "metadata": {
    "colab": {
     "base_uri": "https://localhost:8080/"
    },
    "id": "6b4bacfd",
    "outputId": "cba06ba0-7858-4598-9707-a5d8a18a10ed"
   },
   "outputs": [
    {
     "name": "stdout",
     "output_type": "stream",
     "text": [
      "4.107854906463222 0.04268446899604581 1\n"
     ]
    }
   ],
   "source": [
    "from scipy.stats import chi2_contingency\n",
    "chi2, pvalue, k, _ = chi2_contingency(men, correction=False)\n",
    "print(chi2, pvalue, k)\n",
    "# p-val меньше уровня значимости, значит есть существенные значимые различия между теоретическими частотами и фактическими результатами в выборке"
   ]
  },
  {
   "cell_type": "markdown",
   "id": "e6998b09",
   "metadata": {
    "id": "e6998b09"
   },
   "source": [
    "__б)__ __[10 баллов]__ Сделайте всё то же самое, но руками, без помощи библиотеки."
   ]
  },
  {
   "cell_type": "markdown",
   "id": "f325db07",
   "metadata": {
    "id": "f325db07"
   },
   "source": [
    "Для того, чтобы расчитать тестовую стаститику хи-квадрат, нам необходимо найти матрицу ожидаемых частот, такую же, которая у нас получилась в предыдущем пункте в output-е функции `chi2_contingency`. \n",
    "\n",
    "Используя матрицу из предыдущего пункта, посчитайте общее количество испытуемых мужчин."
   ]
  },
  {
   "cell_type": "code",
   "execution_count": 21,
   "id": "6322d435",
   "metadata": {
    "colab": {
     "base_uri": "https://localhost:8080/"
    },
    "id": "6322d435",
    "outputId": "17f1b3cb-6019-4896-f8bd-caa0a5885312"
   },
   "outputs": [
    {
     "data": {
      "text/plain": [
       "1873"
      ]
     },
     "execution_count": 21,
     "metadata": {},
     "output_type": "execute_result"
    }
   ],
   "source": [
    "all_men = men.sum()\n",
    "all_men"
   ]
  },
  {
   "cell_type": "markdown",
   "id": "47d6015e",
   "metadata": {
    "id": "47d6015e"
   },
   "source": [
    "Посчитайте отдельно количество испытуемых мужчин, которые принимали лекарство, и которые не принимали его $(n1, n2)$"
   ]
  },
  {
   "cell_type": "code",
   "execution_count": 22,
   "id": "55d487e5",
   "metadata": {
    "id": "55d487e5"
   },
   "outputs": [],
   "source": [
    "n1 = men[0,:].sum()\n",
    "n2 = men[1,:].sum()\n"
   ]
  },
  {
   "cell_type": "markdown",
   "id": "8dcf393b",
   "metadata": {
    "id": "8dcf393b"
   },
   "source": [
    "Найдите вероятности выздороветь или нет (независимо от группы по приему/не приему лекарства), то есть вероятность попасть в $B$ и $\\overline{B}$ для мужчин."
   ]
  },
  {
   "cell_type": "code",
   "execution_count": 23,
   "id": "c278911c",
   "metadata": {
    "colab": {
     "base_uri": "https://localhost:8080/"
    },
    "id": "c278911c",
    "outputId": "ca023411-57e7-4a6b-e852-055eda485742"
   },
   "outputs": [
    {
     "name": "stdout",
     "output_type": "stream",
     "text": [
      "Вероятность выздороветь вне зависимости от группы приема/не приема равняется 0.4580886278697277\n",
      "Вероятность не выздороветь вне зависимости от группы приема/не приема равняется 0.5419113721302723\n"
     ]
    }
   ],
   "source": [
    "got_in_b = men[:,0].sum()/all_men\n",
    "didnot_get_in_b =men[:,1].sum() /all_men\n",
    "print(f'Вероятность выздороветь вне зависимости от группы приема/не приема равняется {got_in_b }')\n",
    "print(f'Вероятность не выздороветь вне зависимости от группы приема/не приема равняется {didnot_get_in_b }')\n"
   ]
  },
  {
   "cell_type": "markdown",
   "id": "1386a83c",
   "metadata": {
    "id": "1386a83c"
   },
   "source": [
    "Расчитайте ожидаемые (теоритические) значения для каждой ячейки матрицы. Для этого перемножьте вероятности из предыдущего пункта со значениями $n_1$ и $n_2$. Полученную матрицу можно сравнить с выводом библиотеки`scipy.stats`, она должна быть идентичной."
   ]
  },
  {
   "cell_type": "code",
   "execution_count": 27,
   "id": "657d33fc",
   "metadata": {
    "colab": {
     "base_uri": "https://localhost:8080/"
    },
    "id": "657d33fc",
    "outputId": "39f468f5-f19a-4a08-b8ab-076c424f5f94"
   },
   "outputs": [
    {
     "name": "stdout",
     "output_type": "stream",
     "text": [
      "0.0 1.0 1\n",
      "Chi2ContingencyResult(statistic=0.0, pvalue=1.0, dof=1, expected_freq=array([[755.84623599, 894.15376401],\n",
      "       [102.15376401, 120.84623599]]))\n",
      "[[755.84623599 894.15376401]\n",
      " [102.15376401 120.84623599]]\n"
     ]
    }
   ],
   "source": [
    "new = np.array([[got_in_b*n1, didnot_get_in_b*n1],[got_in_b*n2, didnot_get_in_b*n2]])\n",
    "chi2, pvalue, k, _ = chi2_contingency(new, correction=False)\n",
    "print(chi2, pvalue, k)\n",
    "print(chi2_contingency(new, correction=False)) \n",
    "print(new) \n",
    "#значение статистики = 0 , а p-val = 1, значит получены теоретические значения матрицы"
   ]
  },
  {
   "cell_type": "markdown",
   "id": "bacaa057",
   "metadata": {
    "id": "bacaa057"
   },
   "source": [
    "[link text](https://)Расчитайте наблюдаемую статистику и найдите `p_value` с помощью `sts.chi2.cdf` с параметром `df=1`.\n",
    "\n",
    "\\begin{equation*} \\chi^2_d = \\sum {\\frac {(O-E)^2}{E}},\\end{equation*}\n",
    "\n",
    "где\n",
    "\n",
    "- $E$ - наши ожидаемые частоты(матрица из предыдущего пукта),\n",
    "- $O$ - наблюдаемы частоты(первоначальная матрица)."
   ]
  },
  {
   "cell_type": "code",
   "execution_count": 31,
   "id": "YJoeTzhNBzIA",
   "metadata": {
    "colab": {
     "base_uri": "https://localhost:8080/"
    },
    "id": "YJoeTzhNBzIA",
    "outputId": "4017d6af-7a01-4cc0-f6cb-8dedf6bd1314"
   },
   "outputs": [
    {
     "name": "stdout",
     "output_type": "stream",
     "text": [
      "4.107854906463222\n",
      "3.841458820694124\n",
      "0.04268446899604583\n"
     ]
    }
   ],
   "source": [
    "hi2 = 0\n",
    "men_n = men.reshape(1, 4)\n",
    "new_n = new.reshape(1,4)\n",
    "for i in range(4):\n",
    "  hi2 += (men_n[0,i] - new_n[0,i])**2/new_n[0,i]\n",
    "print(hi2)\n",
    "crit = sts.chi2.ppf(0.95, df=1)\n",
    "print(crit)\n",
    "p_val = 1-sts.chi2.cdf(hi2, df=1) \n",
    "print(p_val)"
   ]
  },
  {
   "cell_type": "markdown",
   "id": "ca9e60ca",
   "metadata": {
    "id": "ca9e60ca"
   },
   "source": [
    "__в)__ __[5 баллов]__  Ответьте на вопрос: есть ли эффект от лекарства для женщин? (повторите процедуру пункта а) \n",
    "\n",
    "Как и в предыдущий раз, для начала, посчитайте долю выздровевших женщин, которые принимали лекарство и долю выздровевших женщин, которые не принимали лекартсво. Сравните эти доли."
   ]
  },
  {
   "cell_type": "code",
   "execution_count": 32,
   "id": "2966cd43",
   "metadata": {
    "colab": {
     "base_uri": "https://localhost:8080/"
    },
    "id": "2966cd43",
    "outputId": "4b8097dd-536b-4319-9c0e-ca687f04196e"
   },
   "outputs": [
    {
     "data": {
      "text/plain": [
       "(0.673469387755102, 0.5866666666666667)"
      ]
     },
     "execution_count": 32,
     "metadata": {},
     "output_type": "execute_result"
    }
   ],
   "source": [
    "took_w = 165/(165+80)\n",
    "didnottake_w = 440/(440+310)\n",
    "took_w, didnottake_w\n",
    "#больше женщин, которые принимали лекарство и выздоровели, чем тех, кто не принимал и выздоровел"
   ]
  },
  {
   "cell_type": "markdown",
   "id": "28f8411d",
   "metadata": {
    "id": "28f8411d"
   },
   "source": [
    "Создайте матрицу с данными из таблицы по женщинам, примените тест с параметром `correction=False` и сделайте выводы на уровене значимости $5\\%$."
   ]
  },
  {
   "cell_type": "code",
   "execution_count": 34,
   "id": "d66e85fc",
   "metadata": {
    "colab": {
     "base_uri": "https://localhost:8080/"
    },
    "id": "d66e85fc",
    "outputId": "8359f692-66fd-4a85-d46c-59016a9f1a2c"
   },
   "outputs": [
    {
     "name": "stdout",
     "output_type": "stream",
     "text": [
      "5.838444095586957 0.015679686056826774 1\n"
     ]
    }
   ],
   "source": [
    "women = np.array([[165,80],[440,310]])\n",
    "from scipy.stats import chi2_contingency\n",
    "chi2, pvalue, k, _ = chi2_contingency(women, correction=False)\n",
    "print(chi2, pvalue, k)\n",
    "# p-val меньше уровня значимости, значит есть существенные значимые различия между теоретическими частотами и фактическими результатами в выборке\n",
    "#причем здесь p-val меньше, чем p-val мужчин"
   ]
  },
  {
   "cell_type": "markdown",
   "id": "90f5481f",
   "metadata": {
    "id": "90f5481f"
   },
   "source": [
    "__г)__ __[5 баллов]__  Ответьте на вопрос: есть ли эффект от лекарства для объединенной группы?"
   ]
  },
  {
   "cell_type": "markdown",
   "id": "dbc56cb1",
   "metadata": {
    "id": "dbc56cb1"
   },
   "source": [
    "Соотносится ли это с результатами по группам мужчин и женщин, взятых отдельно?"
   ]
  },
  {
   "cell_type": "code",
   "execution_count": 36,
   "id": "76847c6c",
   "metadata": {
    "colab": {
     "base_uri": "https://localhost:8080/"
    },
    "id": "76847c6c",
    "outputId": "f64cfb12-bc23-4d04-8663-9ae6a0dfa04c"
   },
   "outputs": [
    {
     "data": {
      "text/plain": [
       "(0.49340369393139843, 0.5426515930113053)"
      ]
     },
     "execution_count": 36,
     "metadata": {},
     "output_type": "execute_result"
    }
   ],
   "source": [
    "took_all = 935/(935+960)\n",
    "didnottake_all = 528/(528+445)\n",
    "took_all, didnottake_all\n",
    "# парадокс выполняется:  в отедльных демографических группах выполняется закономерность (доля выздоравливающих людей, принимающих лекарство, больше количества выздоравливающих и не принимающих лекарство)\n",
    "# а при объединении групп результаты получились обратными (теперь доля выздоравливающих людей, не принимающих лекарства, больше, чем количество выздоравливающих людей, принимающих лекарство )"
   ]
  },
  {
   "cell_type": "markdown",
   "id": "8248f6a5",
   "metadata": {
    "id": "8248f6a5"
   },
   "source": [
    "## Что произошло?"
   ]
  },
  {
   "cell_type": "markdown",
   "id": "fba0880d",
   "metadata": {
    "id": "fba0880d"
   },
   "source": [
    "Если вы все сделали правильно, скорее всего у вас получились противоречивые значимые результаты. Давайте разберемся почему это так.\n",
    "\n",
    "Может произойти такая ситуация, что новое лекарство может оказаться эффективным в каждом из отдельных исследований, на каждой отдельной группе, но объединение результатов укажет на то, что это лекарство либо бесполезно, либо вредно. [Это называется __парадокс Симпсона.__](https://ru.wikipedia.org/wiki/Парадокс_Симпсона) Он довольно часто встречается на практике в разном виде. \n",
    "\n",
    "Проблема здесь в том, что объединять эти выборки просто слив данные вместе — нельзя. Контрольные группы людей, не принимавших лекарство, занимают разный объем от выборок — примерно 12% в случае мужчин и 75% в случае женщин."
   ]
  },
  {
   "cell_type": "markdown",
   "id": "going-combination",
   "metadata": {
    "id": "going-combination"
   },
   "source": [
    "# Часть 2: А/Б-тестирование"
   ]
  },
  {
   "cell_type": "markdown",
   "id": "daily-teach",
   "metadata": {
    "id": "daily-teach"
   },
   "source": [
    "## Задача №4: Не подглядывать!"
   ]
  },
  {
   "cell_type": "markdown",
   "id": "extreme-baghdad",
   "metadata": {
    "id": "extreme-baghdad"
   },
   "source": [
    "<img src=\"https://github.com/hse-econ-data-science/andan_2023/blob/main/hw/hw04/images/trump.png?raw=true\" width=\"500\" align='left'>"
   ]
  },
  {
   "cell_type": "markdown",
   "id": "simple-customer",
   "metadata": {
    "id": "simple-customer"
   },
   "source": [
    "На американских выборах 2020 года в некоторых штатах проходила очень конкурентная борьба между кандидатами. По мере подсчета голосов перевес в голосах склонялся то в пользу демократов, то в пользу республиканцев. И вот, в один из таких моментов, когда чаша весов склонилась в пользу республиканцев, Д. Трамп написал в твиттер \"stop the count!\", что означало призыв к остановке подсчета голосов. \n",
    "\n",
    "_Здесь у вас мог возникнуть вопрос, и зачем нам это?_ \n",
    "\n",
    "Ответ очень прост. В этой ситуации всем очевидно, что призыв Трампа не мог быть осуществлен, то есть прерывать подсчет голосов раньше времени кажется довольно глупым способом выявления победителя. И вот абсолютно такой же способ принятия решения есть и в А/Б-тестах, только теперь многим аналитикам он уже кажется не столь очевидным, что приводит к существенным ошибкам в заключении выводов. \n",
    "\n",
    "_Решив эту задачу, мы познакомимся с такой проблемой подробнее и поймем, как не стоит делать, когда вы запускаете А/Б-тест._"
   ]
  },
  {
   "cell_type": "markdown",
   "id": "retained-flash",
   "metadata": {
    "id": "retained-flash"
   },
   "source": [
    "Чтобы понять, в чем же именно заключается проблема, мы с вами будем проводить симуляции А/Б-тестов. Это когда мы генерируем данные уже со знаниями, как эти данные устроены. А затем, запуская процедуру проверки гипотез над такими симулированными данными, мы будем оценивать, что происходит на практике (при запуске А/Б-теста).\n",
    "\n",
    "На практике же всегда неизвестно, как устроены данные, и проводя А/Б-тест мы пытаемся зафиксировать различия. Еще раз, здесь же мы будем знать об устройстве данных, а затем будем смотреть на поведение А/Б-теста, то есть как будто бы смотреть на тест с обратной стороны. \n",
    "\n",
    "_Перед тем как идти дальше, остановитесь здесь и еще раз зафиксируйте это!_"
   ]
  },
  {
   "cell_type": "markdown",
   "id": "beginning-adventure",
   "metadata": {
    "id": "beginning-adventure"
   },
   "source": [
    "__а) [10 баллов]  Подсчет размера выборки для А/Б-теста__\n",
    "\n",
    "Предположим, что вы хотите провести А/Б-тест внутри вашего приложения. Вы выбрали некоторую метрику $X$ – случайную величину из нормального распределения с мат. ожиданием $100$ у.е. и стандартным отклонением $40$ у.е – это ваш бейзлайн (группа А). Рассчитайте, сколько дней вам нужно крутить такой А/Б-тест, если:\n",
    "\n",
    "1. Вы ожидаете получить минимальный размер эффекта в $5$ у.е.;\n",
    "2. Вы хотите зафиксировать ошибку первого рода на уровне $\\alpha=5\\%$, а ошибку второго рода на уровне $\\beta=20\\%$;\n",
    "3. Вы точно знаете, что в группе Б стандартное отклонение метрики составляет также $20$ у.е.\n",
    "4. Посещаемость вашего приложения ежедневно составляет $200$ пользователей, и вы готовы раскатить тест на $100\\%$ трафика.\n",
    "\n",
    "Формула для расчета числа наблюдений _для одной группы_:\n",
    "\n",
    "$$\n",
    "n_{\\text{one group}} = \\frac{(\\sigma_A^2 + \\sigma_B^2) \\cdot (z_{1-\\frac{\\alpha}{2}} + z_{1-\\beta})^2}{MDE^2},\n",
    "$$\n",
    "\n",
    "__Подсказка:__ Помните, что после получения общего числа наблюдений вам нужно выразить это в дни! Вы должны получить целое число. Также будьте аккуратны с подсчетом трафика и кол-ва наблюдений – обратите внимание, со скольким числом групп вы работаете!"
   ]
  },
  {
   "cell_type": "code",
   "execution_count": 68,
   "id": "hollywood-psychiatry",
   "metadata": {
    "colab": {
     "base_uri": "https://localhost:8080/"
    },
    "id": "hollywood-psychiatry",
    "outputId": "4fc5ecbc-6000-4c1e-f122-b31e0c5037d1"
   },
   "outputs": [
    {
     "name": "stdout",
     "output_type": "stream",
     "text": [
      "Количество наблюдений для одной группы 1005\n",
      "Количество дней, необходимых для проведения аб-теста 11\n"
     ]
    }
   ],
   "source": [
    "def get_size(var_a, var_b, alpha, beta, mde):\n",
    "    za = sts.norm.ppf(1 - alpha/2)\n",
    "    zb = sts.norm.ppf(1 - beta)    \n",
    "    n = ((var_a+var_b)*(za+zb)**2)/mde**2\n",
    "    return int(np.ceil(n))\n",
    "\n",
    "alpha = 0.05\n",
    "beta = 0.2\n",
    "mde = 5\n",
    "amount=get_size(40**2, 40**2, alpha, beta, mde) #количество наблюдений для одной группы (то есть грубо говоря количество людей, которые должны быть в группе А и Б по отдельности, если я правильно поняла)\n",
    "n=amount//100+1 #разделила на 100, так как в каждый день трафик составляет по 100 людей в каждой группе, и прибавила 1, так как иначе нам не хватит необходимых наблюдений для теста (однако нехватающих дней всего 5, мб и не стоило в большую сторону округлять)\n",
    "print(f'Количество наблюдений для одной группы {amount}')\n",
    "print(f'Количество дней, необходимых для проведения аб-теста {n}')"
   ]
  },
  {
   "cell_type": "markdown",
   "id": "olive-wrong",
   "metadata": {
    "id": "olive-wrong"
   },
   "source": [
    "__б) [25 баллов] Симуляция А/Б-теста__\n",
    "\n",
    "Теперь нам нужно запустить А/Б-тест. Для этого:"
   ]
  },
  {
   "cell_type": "markdown",
   "id": "marked-samuel",
   "metadata": {
    "id": "marked-samuel"
   },
   "source": [
    "1. Сгенерируйте выборку данных из нормального распределения для группы А и Б в конкретный один день. Считайте, что в группе Б математическое ожидание составляет $105$ у.е., то есть с учетом размера вашего минимального ожидаемого эффекта из предыдущего пункта."
   ]
  },
  {
   "cell_type": "code",
   "execution_count": 69,
   "id": "unlikely-working",
   "metadata": {
    "colab": {
     "base_uri": "https://localhost:8080/"
    },
    "id": "unlikely-working",
    "outputId": "f0006d99-0b7a-4963-f61f-43ee105faeb9"
   },
   "outputs": [
    {
     "data": {
      "text/plain": [
       "(array([119.86856612,  94.46942795, 125.90754152, 160.92119426,\n",
       "         90.63386501,  90.63452172, 163.16851262, 130.69738917,\n",
       "         81.22102456, 121.70240174,  81.46329229,  81.37080986,\n",
       "        109.67849086,  23.46879021,  31.0032867 ,  77.50849883,\n",
       "         59.48675519, 112.5698933 ,  63.67903698,  43.50785195,\n",
       "        158.62595076,  90.96894798, 102.70112819,  43.01007255,\n",
       "         78.22469102, 104.43690359,  53.9602569 , 115.02792073,\n",
       "         75.9744524 ,  88.33225001,  75.93173551, 174.09112738,\n",
       "         99.46011101,  57.69156284, 132.90179648,  51.166254  ,\n",
       "        108.3545438 ,  21.61319504,  46.87255804, 107.87444943,\n",
       "        129.5386632 , 106.85473125,  95.3740687 ,  87.95585218,\n",
       "         40.85912039,  71.20623166,  81.57444916, 142.28488905,\n",
       "        113.74473158,  29.47839379, 112.96335878,  84.59670878,\n",
       "         72.92311999, 124.46705155, 141.2399809 , 137.25120476,\n",
       "         66.43129907,  87.63150497, 113.25053726, 139.02180508,\n",
       "         80.83303049,  92.57364093,  55.74660104,  52.15173504,\n",
       "        132.5010329 , 154.24960114,  97.11959514, 140.14131592,\n",
       "        114.465441  ,  74.19520982, 114.45582422, 161.52146266,\n",
       "         98.56695844, 162.58574623,  -4.78980416, 132.87610018,\n",
       "        103.48188273,  88.03970598, 103.67043106,  20.49724342,\n",
       "         91.21312449, 114.28450286, 159.11576179,  79.26919127,\n",
       "         67.66025588,  79.92971826, 136.61608471, 113.15004439,\n",
       "         78.80959185, 120.53069732, 103.88310197, 138.74579962,\n",
       "         71.91787624,  86.89351414,  84.31567387,  41.45940207,\n",
       "        111.84481108, 110.44221089, 100.20453827,  90.61651466]),\n",
       " array([ 48.38517032,  88.17418709,  91.29141934,  72.90890923,\n",
       "         98.54857153, 121.16203427, 180.44743605, 111.98311251,\n",
       "        115.30201563, 102.02216337,  28.24915139, 103.93944498,\n",
       "        107.4092084 , 203.5296845 ,  97.30556141, 117.06189369,\n",
       "        103.61152921,  58.2528785 , 150.71291258, 135.07732131,\n",
       "        136.64127788,  68.62450181, 161.11177244,  48.92595749,\n",
       "        128.47428375, 192.61822503,  65.37854699,  82.34809082,\n",
       "        108.9860546 ,  84.86097384,  42.97346276, 107.74251899,\n",
       "         62.50785145, 123.94369723,  68.22303063, 166.9973762 ,\n",
       "         73.66986831,  92.11753935, 137.54068869,  55.76542734,\n",
       "        114.09839738, 157.28571017,  40.70067062, 112.38535434,\n",
       "        115.39531177, 136.27291487,  55.52197156,  52.18173548,\n",
       "        125.87766262, 116.87938693, 115.01971401, 118.85792838,\n",
       "         77.79901114, 114.29014789, 116.72289893,  76.42594328,\n",
       "        179.63098045, 123.95331684,  57.34786011, 131.26214435,\n",
       "         66.01273319, 136.48338415, 151.34382316,  72.17270727,\n",
       "        143.53504517, 121.51123708, 137.8824064 , 180.87171931,\n",
       "         95.18447536,  74.85055343,  69.41942281,  72.3675886 ,\n",
       "        101.91593162, 118.64607899, 116.06763197, 138.08732996,\n",
       "        105.52007568, 163.14136309,  94.41372667, 213.80676666,\n",
       "        130.02669391,  70.71369774,  62.16430008, 124.29889661,\n",
       "         96.06148859, 133.56001976, 123.92950498, 102.08684349,\n",
       "         71.12825128,  44.40611101,  87.13940192, 139.25595177,\n",
       "        113.56374977,  55.17044885, 111.92723703, 120.41269519,\n",
       "         69.64570255, 111.14900424, 107.32834874,  59.28118809]))"
      ]
     },
     "execution_count": 69,
     "metadata": {},
     "output_type": "execute_result"
    }
   ],
   "source": [
    "np.random.seed(42)\n",
    "a = np.random.normal(100, 40, 100) # один день для ста пользователей из одной группы\n",
    "b = np.random.normal(105, 40, 100)\n",
    "a,b"
   ]
  },
  {
   "cell_type": "markdown",
   "id": "legendary-value",
   "metadata": {
    "id": "legendary-value"
   },
   "source": [
    "2. Теперь представим, что наш тест был запущен $X$ дней. Напишите функцию, которая за этот период теста собирает в `DataFrame` следующие данные на каждый день теста: \n",
    "    1. среднее метрики в группе А\n",
    "    2. среднее метрики в группе Б\n",
    "    3. p-value, посчитанное с помощью t-test – можно воспользоваться встроенной функцией `scipy.stats.ttest_ind`\n",
    "    \n",
    "    Соберите `DataFrame` для $X=50$.\n",
    "    \n",
    "__Подсказка:__ Среднее для 1-го дня должно считаться по пользователям, пришедших в первый день, для второго дня – по пользователям, пришедшим в первый и второй день и т.д. То есть накопленным итогом за каждый день теста."
   ]
  },
  {
   "cell_type": "code",
   "execution_count": 85,
   "id": "UVWoTRDV-f-6",
   "metadata": {
    "colab": {
     "base_uri": "https://localhost:8080/",
     "height": 1000
    },
    "id": "UVWoTRDV-f-6",
    "outputId": "d1ab8e19-0d3a-4db3-9729-c51acc9f7e2e"
   },
   "outputs": [
    {
     "data": {
      "text/html": [
       "\n",
       "  <div id=\"df-3fdc2ca6-acf4-4ba8-ade3-1207ac65c7dc\">\n",
       "    <div class=\"colab-df-container\">\n",
       "      <div>\n",
       "<style scoped>\n",
       "    .dataframe tbody tr th:only-of-type {\n",
       "        vertical-align: middle;\n",
       "    }\n",
       "\n",
       "    .dataframe tbody tr th {\n",
       "        vertical-align: top;\n",
       "    }\n",
       "\n",
       "    .dataframe thead th {\n",
       "        text-align: right;\n",
       "    }\n",
       "</style>\n",
       "<table border=\"1\" class=\"dataframe\">\n",
       "  <thead>\n",
       "    <tr style=\"text-align: right;\">\n",
       "      <th></th>\n",
       "      <th>metric_a</th>\n",
       "      <th>metric_b</th>\n",
       "      <th>p-value</th>\n",
       "    </tr>\n",
       "  </thead>\n",
       "  <tbody>\n",
       "    <tr>\n",
       "      <th>0</th>\n",
       "      <td>95.846139</td>\n",
       "      <td>105.892183</td>\n",
       "      <td>0.057952</td>\n",
       "    </tr>\n",
       "    <tr>\n",
       "      <th>1</th>\n",
       "      <td>99.220995</td>\n",
       "      <td>107.582894</td>\n",
       "      <td>0.030124</td>\n",
       "    </tr>\n",
       "    <tr>\n",
       "      <th>2</th>\n",
       "      <td>98.733937</td>\n",
       "      <td>105.184521</td>\n",
       "      <td>0.042775</td>\n",
       "    </tr>\n",
       "    <tr>\n",
       "      <th>3</th>\n",
       "      <td>99.291391</td>\n",
       "      <td>105.076785</td>\n",
       "      <td>0.038006</td>\n",
       "    </tr>\n",
       "    <tr>\n",
       "      <th>4</th>\n",
       "      <td>101.262306</td>\n",
       "      <td>105.284259</td>\n",
       "      <td>0.104932</td>\n",
       "    </tr>\n",
       "    <tr>\n",
       "      <th>5</th>\n",
       "      <td>102.119751</td>\n",
       "      <td>105.950827</td>\n",
       "      <td>0.093634</td>\n",
       "    </tr>\n",
       "    <tr>\n",
       "      <th>6</th>\n",
       "      <td>102.07782</td>\n",
       "      <td>105.615526</td>\n",
       "      <td>0.094209</td>\n",
       "    </tr>\n",
       "    <tr>\n",
       "      <th>7</th>\n",
       "      <td>103.140131</td>\n",
       "      <td>105.042851</td>\n",
       "      <td>0.338257</td>\n",
       "    </tr>\n",
       "    <tr>\n",
       "      <th>8</th>\n",
       "      <td>103.524417</td>\n",
       "      <td>105.316527</td>\n",
       "      <td>0.336429</td>\n",
       "    </tr>\n",
       "    <tr>\n",
       "      <th>9</th>\n",
       "      <td>102.975308</td>\n",
       "      <td>105.631424</td>\n",
       "      <td>0.133145</td>\n",
       "    </tr>\n",
       "    <tr>\n",
       "      <th>10</th>\n",
       "      <td>102.298991</td>\n",
       "      <td>105.50087</td>\n",
       "      <td>0.057408</td>\n",
       "    </tr>\n",
       "    <tr>\n",
       "      <th>11</th>\n",
       "      <td>102.102943</td>\n",
       "      <td>105.418411</td>\n",
       "      <td>0.039564</td>\n",
       "    </tr>\n",
       "    <tr>\n",
       "      <th>12</th>\n",
       "      <td>102.211009</td>\n",
       "      <td>105.51636</td>\n",
       "      <td>0.032885</td>\n",
       "    </tr>\n",
       "    <tr>\n",
       "      <th>13</th>\n",
       "      <td>102.118634</td>\n",
       "      <td>105.635765</td>\n",
       "      <td>0.017883</td>\n",
       "    </tr>\n",
       "    <tr>\n",
       "      <th>14</th>\n",
       "      <td>101.854527</td>\n",
       "      <td>105.70554</td>\n",
       "      <td>0.007588</td>\n",
       "    </tr>\n",
       "    <tr>\n",
       "      <th>15</th>\n",
       "      <td>101.473985</td>\n",
       "      <td>105.229184</td>\n",
       "      <td>0.007281</td>\n",
       "    </tr>\n",
       "    <tr>\n",
       "      <th>16</th>\n",
       "      <td>101.656615</td>\n",
       "      <td>105.389204</td>\n",
       "      <td>0.006198</td>\n",
       "    </tr>\n",
       "    <tr>\n",
       "      <th>17</th>\n",
       "      <td>101.559959</td>\n",
       "      <td>105.568</td>\n",
       "      <td>0.002623</td>\n",
       "    </tr>\n",
       "    <tr>\n",
       "      <th>18</th>\n",
       "      <td>101.675028</td>\n",
       "      <td>105.20911</td>\n",
       "      <td>0.0063</td>\n",
       "    </tr>\n",
       "    <tr>\n",
       "      <th>19</th>\n",
       "      <td>101.216076</td>\n",
       "      <td>105.32959</td>\n",
       "      <td>0.001119</td>\n",
       "    </tr>\n",
       "    <tr>\n",
       "      <th>20</th>\n",
       "      <td>100.977404</td>\n",
       "      <td>105.190235</td>\n",
       "      <td>0.000625</td>\n",
       "    </tr>\n",
       "    <tr>\n",
       "      <th>21</th>\n",
       "      <td>100.678713</td>\n",
       "      <td>104.977834</td>\n",
       "      <td>0.000355</td>\n",
       "    </tr>\n",
       "    <tr>\n",
       "      <th>22</th>\n",
       "      <td>100.547575</td>\n",
       "      <td>105.046982</td>\n",
       "      <td>0.000127</td>\n",
       "    </tr>\n",
       "    <tr>\n",
       "      <th>23</th>\n",
       "      <td>100.458935</td>\n",
       "      <td>104.930382</td>\n",
       "      <td>0.000102</td>\n",
       "    </tr>\n",
       "    <tr>\n",
       "      <th>24</th>\n",
       "      <td>100.34875</td>\n",
       "      <td>105.099405</td>\n",
       "      <td>0.000026</td>\n",
       "    </tr>\n",
       "    <tr>\n",
       "      <th>25</th>\n",
       "      <td>100.382468</td>\n",
       "      <td>105.037521</td>\n",
       "      <td>0.000025</td>\n",
       "    </tr>\n",
       "    <tr>\n",
       "      <th>26</th>\n",
       "      <td>100.550008</td>\n",
       "      <td>104.732346</td>\n",
       "      <td>0.000115</td>\n",
       "    </tr>\n",
       "    <tr>\n",
       "      <th>27</th>\n",
       "      <td>100.423524</td>\n",
       "      <td>104.763396</td>\n",
       "      <td>0.000045</td>\n",
       "    </tr>\n",
       "    <tr>\n",
       "      <th>28</th>\n",
       "      <td>100.404345</td>\n",
       "      <td>104.596734</td>\n",
       "      <td>0.000061</td>\n",
       "    </tr>\n",
       "    <tr>\n",
       "      <th>29</th>\n",
       "      <td>100.043182</td>\n",
       "      <td>104.707112</td>\n",
       "      <td>0.000006</td>\n",
       "    </tr>\n",
       "    <tr>\n",
       "      <th>30</th>\n",
       "      <td>100.184997</td>\n",
       "      <td>104.644719</td>\n",
       "      <td>0.000011</td>\n",
       "    </tr>\n",
       "    <tr>\n",
       "      <th>31</th>\n",
       "      <td>100.190988</td>\n",
       "      <td>104.668487</td>\n",
       "      <td>0.000007</td>\n",
       "    </tr>\n",
       "    <tr>\n",
       "      <th>32</th>\n",
       "      <td>99.950198</td>\n",
       "      <td>104.716222</td>\n",
       "      <td>0.000001</td>\n",
       "    </tr>\n",
       "    <tr>\n",
       "      <th>33</th>\n",
       "      <td>99.82603</td>\n",
       "      <td>104.799868</td>\n",
       "      <td>0.0</td>\n",
       "    </tr>\n",
       "    <tr>\n",
       "      <th>34</th>\n",
       "      <td>99.615403</td>\n",
       "      <td>104.848774</td>\n",
       "      <td>0.0</td>\n",
       "    </tr>\n",
       "    <tr>\n",
       "      <th>35</th>\n",
       "      <td>99.700096</td>\n",
       "      <td>104.771666</td>\n",
       "      <td>0.0</td>\n",
       "    </tr>\n",
       "    <tr>\n",
       "      <th>36</th>\n",
       "      <td>99.754526</td>\n",
       "      <td>104.86457</td>\n",
       "      <td>0.0</td>\n",
       "    </tr>\n",
       "    <tr>\n",
       "      <th>37</th>\n",
       "      <td>99.671554</td>\n",
       "      <td>104.785184</td>\n",
       "      <td>0.0</td>\n",
       "    </tr>\n",
       "    <tr>\n",
       "      <th>38</th>\n",
       "      <td>99.60796</td>\n",
       "      <td>104.91614</td>\n",
       "      <td>0.0</td>\n",
       "    </tr>\n",
       "    <tr>\n",
       "      <th>39</th>\n",
       "      <td>99.626936</td>\n",
       "      <td>105.09639</td>\n",
       "      <td>0.0</td>\n",
       "    </tr>\n",
       "    <tr>\n",
       "      <th>40</th>\n",
       "      <td>99.60703</td>\n",
       "      <td>105.064115</td>\n",
       "      <td>0.0</td>\n",
       "    </tr>\n",
       "    <tr>\n",
       "      <th>41</th>\n",
       "      <td>99.601877</td>\n",
       "      <td>105.153761</td>\n",
       "      <td>0.0</td>\n",
       "    </tr>\n",
       "    <tr>\n",
       "      <th>42</th>\n",
       "      <td>99.574808</td>\n",
       "      <td>105.198695</td>\n",
       "      <td>0.0</td>\n",
       "    </tr>\n",
       "    <tr>\n",
       "      <th>43</th>\n",
       "      <td>99.690015</td>\n",
       "      <td>105.267278</td>\n",
       "      <td>0.0</td>\n",
       "    </tr>\n",
       "    <tr>\n",
       "      <th>44</th>\n",
       "      <td>99.590906</td>\n",
       "      <td>105.326199</td>\n",
       "      <td>0.0</td>\n",
       "    </tr>\n",
       "    <tr>\n",
       "      <th>45</th>\n",
       "      <td>99.601355</td>\n",
       "      <td>105.406304</td>\n",
       "      <td>0.0</td>\n",
       "    </tr>\n",
       "    <tr>\n",
       "      <th>46</th>\n",
       "      <td>99.465349</td>\n",
       "      <td>105.447551</td>\n",
       "      <td>0.0</td>\n",
       "    </tr>\n",
       "    <tr>\n",
       "      <th>47</th>\n",
       "      <td>99.455656</td>\n",
       "      <td>105.452475</td>\n",
       "      <td>0.0</td>\n",
       "    </tr>\n",
       "    <tr>\n",
       "      <th>48</th>\n",
       "      <td>99.484966</td>\n",
       "      <td>105.349144</td>\n",
       "      <td>0.0</td>\n",
       "    </tr>\n",
       "    <tr>\n",
       "      <th>49</th>\n",
       "      <td>99.481753</td>\n",
       "      <td>105.347369</td>\n",
       "      <td>0.0</td>\n",
       "    </tr>\n",
       "  </tbody>\n",
       "</table>\n",
       "</div>\n",
       "      <button class=\"colab-df-convert\" onclick=\"convertToInteractive('df-3fdc2ca6-acf4-4ba8-ade3-1207ac65c7dc')\"\n",
       "              title=\"Convert this dataframe to an interactive table.\"\n",
       "              style=\"display:none;\">\n",
       "        \n",
       "  <svg xmlns=\"http://www.w3.org/2000/svg\" height=\"24px\"viewBox=\"0 0 24 24\"\n",
       "       width=\"24px\">\n",
       "    <path d=\"M0 0h24v24H0V0z\" fill=\"none\"/>\n",
       "    <path d=\"M18.56 5.44l.94 2.06.94-2.06 2.06-.94-2.06-.94-.94-2.06-.94 2.06-2.06.94zm-11 1L8.5 8.5l.94-2.06 2.06-.94-2.06-.94L8.5 2.5l-.94 2.06-2.06.94zm10 10l.94 2.06.94-2.06 2.06-.94-2.06-.94-.94-2.06-.94 2.06-2.06.94z\"/><path d=\"M17.41 7.96l-1.37-1.37c-.4-.4-.92-.59-1.43-.59-.52 0-1.04.2-1.43.59L10.3 9.45l-7.72 7.72c-.78.78-.78 2.05 0 2.83L4 21.41c.39.39.9.59 1.41.59.51 0 1.02-.2 1.41-.59l7.78-7.78 2.81-2.81c.8-.78.8-2.07 0-2.86zM5.41 20L4 18.59l7.72-7.72 1.47 1.35L5.41 20z\"/>\n",
       "  </svg>\n",
       "      </button>\n",
       "      \n",
       "  <style>\n",
       "    .colab-df-container {\n",
       "      display:flex;\n",
       "      flex-wrap:wrap;\n",
       "      gap: 12px;\n",
       "    }\n",
       "\n",
       "    .colab-df-convert {\n",
       "      background-color: #E8F0FE;\n",
       "      border: none;\n",
       "      border-radius: 50%;\n",
       "      cursor: pointer;\n",
       "      display: none;\n",
       "      fill: #1967D2;\n",
       "      height: 32px;\n",
       "      padding: 0 0 0 0;\n",
       "      width: 32px;\n",
       "    }\n",
       "\n",
       "    .colab-df-convert:hover {\n",
       "      background-color: #E2EBFA;\n",
       "      box-shadow: 0px 1px 2px rgba(60, 64, 67, 0.3), 0px 1px 3px 1px rgba(60, 64, 67, 0.15);\n",
       "      fill: #174EA6;\n",
       "    }\n",
       "\n",
       "    [theme=dark] .colab-df-convert {\n",
       "      background-color: #3B4455;\n",
       "      fill: #D2E3FC;\n",
       "    }\n",
       "\n",
       "    [theme=dark] .colab-df-convert:hover {\n",
       "      background-color: #434B5C;\n",
       "      box-shadow: 0px 1px 3px 1px rgba(0, 0, 0, 0.15);\n",
       "      filter: drop-shadow(0px 1px 2px rgba(0, 0, 0, 0.3));\n",
       "      fill: #FFFFFF;\n",
       "    }\n",
       "  </style>\n",
       "\n",
       "      <script>\n",
       "        const buttonEl =\n",
       "          document.querySelector('#df-3fdc2ca6-acf4-4ba8-ade3-1207ac65c7dc button.colab-df-convert');\n",
       "        buttonEl.style.display =\n",
       "          google.colab.kernel.accessAllowed ? 'block' : 'none';\n",
       "\n",
       "        async function convertToInteractive(key) {\n",
       "          const element = document.querySelector('#df-3fdc2ca6-acf4-4ba8-ade3-1207ac65c7dc');\n",
       "          const dataTable =\n",
       "            await google.colab.kernel.invokeFunction('convertToInteractive',\n",
       "                                                     [key], {});\n",
       "          if (!dataTable) return;\n",
       "\n",
       "          const docLinkHtml = 'Like what you see? Visit the ' +\n",
       "            '<a target=\"_blank\" href=https://colab.research.google.com/notebooks/data_table.ipynb>data table notebook</a>'\n",
       "            + ' to learn more about interactive tables.';\n",
       "          element.innerHTML = '';\n",
       "          dataTable['output_type'] = 'display_data';\n",
       "          await google.colab.output.renderOutput(dataTable, element);\n",
       "          const docLink = document.createElement('div');\n",
       "          docLink.innerHTML = docLinkHtml;\n",
       "          element.appendChild(docLink);\n",
       "        }\n",
       "      </script>\n",
       "    </div>\n",
       "  </div>\n",
       "  "
      ],
      "text/plain": [
       "      metric_a    metric_b   p-value\n",
       "0    95.846139  105.892183  0.057952\n",
       "1    99.220995  107.582894  0.030124\n",
       "2    98.733937  105.184521  0.042775\n",
       "3    99.291391  105.076785  0.038006\n",
       "4   101.262306  105.284259  0.104932\n",
       "5   102.119751  105.950827  0.093634\n",
       "6    102.07782  105.615526  0.094209\n",
       "7   103.140131  105.042851  0.338257\n",
       "8   103.524417  105.316527  0.336429\n",
       "9   102.975308  105.631424  0.133145\n",
       "10  102.298991   105.50087  0.057408\n",
       "11  102.102943  105.418411  0.039564\n",
       "12  102.211009   105.51636  0.032885\n",
       "13  102.118634  105.635765  0.017883\n",
       "14  101.854527   105.70554  0.007588\n",
       "15  101.473985  105.229184  0.007281\n",
       "16  101.656615  105.389204  0.006198\n",
       "17  101.559959     105.568  0.002623\n",
       "18  101.675028   105.20911    0.0063\n",
       "19  101.216076   105.32959  0.001119\n",
       "20  100.977404  105.190235  0.000625\n",
       "21  100.678713  104.977834  0.000355\n",
       "22  100.547575  105.046982  0.000127\n",
       "23  100.458935  104.930382  0.000102\n",
       "24   100.34875  105.099405  0.000026\n",
       "25  100.382468  105.037521  0.000025\n",
       "26  100.550008  104.732346  0.000115\n",
       "27  100.423524  104.763396  0.000045\n",
       "28  100.404345  104.596734  0.000061\n",
       "29  100.043182  104.707112  0.000006\n",
       "30  100.184997  104.644719  0.000011\n",
       "31  100.190988  104.668487  0.000007\n",
       "32   99.950198  104.716222  0.000001\n",
       "33    99.82603  104.799868       0.0\n",
       "34   99.615403  104.848774       0.0\n",
       "35   99.700096  104.771666       0.0\n",
       "36   99.754526   104.86457       0.0\n",
       "37   99.671554  104.785184       0.0\n",
       "38    99.60796   104.91614       0.0\n",
       "39   99.626936   105.09639       0.0\n",
       "40    99.60703  105.064115       0.0\n",
       "41   99.601877  105.153761       0.0\n",
       "42   99.574808  105.198695       0.0\n",
       "43   99.690015  105.267278       0.0\n",
       "44   99.590906  105.326199       0.0\n",
       "45   99.601355  105.406304       0.0\n",
       "46   99.465349  105.447551       0.0\n",
       "47   99.455656  105.452475       0.0\n",
       "48   99.484966  105.349144       0.0\n",
       "49   99.481753  105.347369       0.0"
      ]
     },
     "execution_count": 85,
     "metadata": {},
     "output_type": "execute_result"
    }
   ],
   "source": [
    "import pandas as pd\n",
    "import numpy as np\n",
    "from statistics import mean\n",
    "from scipy.stats import ttest_ind\n",
    "import matplotlib.pyplot as plt\n",
    "np.random.seed(42)\n",
    "def a_b_(x):\n",
    "  df=pd.DataFrame(columns =['metric_a','metric_b', 'p-value'], index=range(0,x))\n",
    "  r_a = np.random.normal(100, 40, 100)\n",
    "  r_b = np.random.normal(105, 40, 100)\n",
    "  df.iloc[0,0] =r_a.mean()\n",
    "  df.iloc[0,1] =r_b.mean()\n",
    "\n",
    "  df.iloc[0,2] =ttest_ind(r_a,r_b)[1]\n",
    "  for i in range(1,x):\n",
    "    a= np.random.normal(100, 40, 100)\n",
    "    b = np.random.normal(105, 40, 100)\n",
    "    r_a=np.append(r_a,a)\n",
    "    r_b=np.append(r_b,b)\n",
    "    df.iloc[i,0] =mean(r_a)\n",
    "    df.iloc[i,1] =mean(r_b)\n",
    "    df.iloc[i,2] =ttest_ind(r_a,r_b)[1]\n",
    "  return df\n",
    "new_df=a_b_(50)\n",
    "new_df"
   ]
  },
  {
   "cell_type": "markdown",
   "id": "emerging-brooks",
   "metadata": {
    "id": "emerging-brooks"
   },
   "source": [
    "3. На основе `DataFrame` из предыдущего пункта постройте график динамики среднего в группе А и в группе Б по дням теста. Отложите вертикальную линию на этом же графике, показывающую кол-во дней, посчитанных в пункте 1. Сделайте эту линию пунктирной и измените цвет, который вам больше нравится."
   ]
  },
  {
   "cell_type": "code",
   "execution_count": 86,
   "id": "smooth-medicaid",
   "metadata": {
    "colab": {
     "base_uri": "https://localhost:8080/",
     "height": 419
    },
    "id": "smooth-medicaid",
    "outputId": "2fc13abb-9db1-4b07-a0c2-9498a773c0f8",
    "scrolled": true
   },
   "outputs": [
    {
     "data": {
      "image/png": "[encoded data removed]",
      "text/plain": [
       "<Figure size 800x400 with 1 Axes>"
      ]
     },
     "metadata": {},
     "output_type": "display_data"
    }
   ],
   "source": [
    "plt.plot(np.arange(1,51),new_df.metric_a)\n",
    "plt.plot(np.arange(1,51),new_df.metric_b)\n",
    "plt.xlabel('Номер дня')\n",
    "plt.ylabel('Значение среднего ')\n",
    "plt.title('График динамики среднего в группе А и Б по дням теста')\n",
    "plt.axvline(x=n, color='black', linestyle = '--');"
   ]
  },
  {
   "cell_type": "markdown",
   "id": "accompanied-session",
   "metadata": {
    "id": "accompanied-session"
   },
   "source": [
    "4. На основе `DataFrame` из предыдущего пункта постройте график динамики p-value по дням теста. Отложите вертикальную линию на этом же графике, показывающую кол-во дней, посчитанных в пункте 1. Сделайте эту линию пунктирной и измените цвет, который вам больше нравится. Также отложите горизонтальную линию – ваш уровень значимости $\\alpha$."
   ]
  },
  {
   "cell_type": "code",
   "execution_count": 87,
   "id": "accepting-personal",
   "metadata": {
    "colab": {
     "base_uri": "https://localhost:8080/",
     "height": 419
    },
    "id": "accepting-personal",
    "outputId": "2e6d6224-fae6-44cf-e6a7-97c23a51cf38"
   },
   "outputs": [
    {
     "data": {
      "image/png": "[encoded data removed]",
      "text/plain": [
       "<Figure size 800x400 with 1 Axes>"
      ]
     },
     "metadata": {},
     "output_type": "display_data"
    }
   ],
   "source": [
    "plt.plot(np.arange(1,51),new_df['p-value'])\n",
    "plt.xlabel('Номер дня')\n",
    "plt.ylabel('Значение p-value ')\n",
    "plt.title('График динамики p-value по дням теста')\n",
    "plt.axhline(y=0.05, color='black', linestyle = '--')\n",
    "plt.axvline(x=n, color='pink', linestyle = '-.');"
   ]
  },
  {
   "cell_type": "markdown",
   "id": "median-parliament",
   "metadata": {
    "id": "median-parliament"
   },
   "source": [
    "5. Перегенируруйте шаги 2-4 несколько раз, посмотрев на графики. Что вы видите? Что происходит с p-value в периодах:\n",
    "    1. до кол-ва дней, посчитанных по формуле из п.1\n",
    "    2. в точке кол-ва дней, посчитанных по формуле из п.1\n",
    "    3. после кол-ва дней, посчитанных по формуле из п.1\n",
    "    \n",
    "    Опишите выводы максимально подробно."
   ]
  },
  {
   "cell_type": "code",
   "execution_count": 88,
   "id": "close-pharmacy",
   "metadata": {
    "id": "close-pharmacy"
   },
   "outputs": [],
   "source": [
    "#убрала зерно из пункта выше, перегенирировала несколько раз\n",
    "#До n-ного дня p-val меняется очень сильно и вверх, и вниз, различия между выборками существенные, при таком количестве тестов результаты будут ненадежными\n",
    "# (для моего зерна в н-ный день п-значение примерно равно уровню значимости, но такое будет не всегда)\n",
    "#после н-ного дня колебания затухают, их амплитуда меньше \n",
    "# при всех генерациях к 50 дню п-значение равняется к нулю или принимает значение очень близкое к нулю\n"
   ]
  },
  {
   "cell_type": "markdown",
   "id": "recognized-entrance",
   "metadata": {
    "id": "recognized-entrance"
   },
   "source": [
    "6. Теперь предположим, что мы поменяли наш $MDE$ до $1$ у.е. То есть мат. ожидание в группе А осталось по-прежнему $100$, а вот в группе Б теперь $101$. Перегенерируйте пункты 2-4 для измененного $MDE$, при этом кол-во дней в п.1 не пересчитывайте. Что происходит с p-value? Сделайте выводы."
   ]
  },
  {
   "cell_type": "code",
   "execution_count": 99,
   "id": "younger-person",
   "metadata": {
    "colab": {
     "base_uri": "https://localhost:8080/",
     "height": 419
    },
    "id": "younger-person",
    "outputId": "5a126ca3-c2a0-4902-c8b7-0cf42a3e7763"
   },
   "outputs": [
    {
     "data": {
      "image/png": "[encoded data removed]",
      "text/plain": [
       "<Figure size 800x400 with 1 Axes>"
      ]
     },
     "metadata": {},
     "output_type": "display_data"
    }
   ],
   "source": [
    "import pandas as pd\n",
    "import numpy as np\n",
    "from statistics import mean\n",
    "from scipy.stats import ttest_ind\n",
    "import matplotlib.pyplot as plt\n",
    "np.random.seed(42)\n",
    "def a_b_(x):\n",
    "  df=pd.DataFrame(columns =['metric_a','metric_b', 'p-value'], index=range(0,x))\n",
    "  r_a = np.random.normal(100, 40, 100)\n",
    "  r_b = np.random.normal(101, 40, 100)\n",
    "  df.iloc[0,0] =r_a.mean()\n",
    "  df.iloc[0,1] =r_b.mean()\n",
    "\n",
    "  df.iloc[0,2] =ttest_ind(r_a,r_b)[1]\n",
    "  for i in range(1,x):\n",
    "    a= np.random.normal(100, 40, 100)\n",
    "    b = np.random.normal(101, 40, 100)\n",
    "    r_a=np.append(r_a,a)\n",
    "    r_b=np.append(r_b,b)\n",
    "    df.iloc[i,0] =mean(r_a)\n",
    "    df.iloc[i,1] =mean(r_b)\n",
    "    df.iloc[i,2] =ttest_ind(r_a,r_b)[1]\n",
    "  return df\n",
    "\n",
    "new_df2=a_b_(50)\n",
    "plt.plot(np.arange(1,51),new_df2.metric_a)\n",
    "plt.plot(np.arange(1,51),new_df2.metric_b)\n",
    "plt.xlabel('Номер дня')\n",
    "plt.ylabel('Значение среднего ')\n",
    "plt.title('График динамики среднего в группе А и Б по дням теста')\n",
    "plt.axvline(x=n, color='black', linestyle = '--');"
   ]
  },
  {
   "cell_type": "code",
   "execution_count": 100,
   "id": "mSTnTQ-2ekDc",
   "metadata": {
    "colab": {
     "base_uri": "https://localhost:8080/",
     "height": 419
    },
    "id": "mSTnTQ-2ekDc",
    "outputId": "8cf3fff2-8fcf-4b4d-b745-f86ec8074179"
   },
   "outputs": [
    {
     "data": {
      "image/png": "[encoded data removed]",
      "text/plain": [
       "<Figure size 800x400 with 1 Axes>"
      ]
     },
     "metadata": {},
     "output_type": "display_data"
    }
   ],
   "source": [
    "plt.plot(np.arange(1,51),new_df2['p-value'])\n",
    "plt.xlabel('Номер дня')\n",
    "plt.ylabel('Значение p-value ')\n",
    "plt.title('График динамики p-value по дням теста')\n",
    "plt.axhline(y=0.05, color='black', linestyle = '--')\n",
    "plt.axvline(x=n, color='red', linestyle = '-.');\n",
    "#для моего зерна получилось что п-вал к 50-ому дню стремится к нулю\n",
    "#перегенирировала несколько раз выборки - п-вал вообще не факт что сходится к 0\n",
    "#несколько раз получалось так, что в первые дни аб теста п-вал было близко к нулю, а к 50 дню - близко к 1\n",
    "# посчитанное n в первом пункте здесь будет некорректным, надо пересчитать и получить новое нужно количество дней для аб теста"
   ]
  },
  {
   "cell_type": "markdown",
   "id": "appropriate-prairie",
   "metadata": {
    "id": "appropriate-prairie"
   },
   "source": [
    "__с) [20баллов] Симуляция А/А-теста__\n",
    "\n",
    "Теперь представим, что изменений на самом деле никаких нету, то есть мат. ожидание в обоих группах $100$, а $MDE = 0$"
   ]
  },
  {
   "cell_type": "markdown",
   "id": "veterinary-stanford",
   "metadata": {
    "id": "veterinary-stanford"
   },
   "source": [
    "1. И снова перегенерируйте вышесделанные пункты 2-4. Что происходит с p-value? Может ли оно оказаться ниже уровня значимости? "
   ]
  },
  {
   "cell_type": "code",
   "execution_count": 117,
   "id": "advance-library",
   "metadata": {
    "colab": {
     "base_uri": "https://localhost:8080/",
     "height": 419
    },
    "id": "advance-library",
    "outputId": "003858b6-d1bd-4e06-b8a6-3f89fc653344"
   },
   "outputs": [
    {
     "data": {
      "image/png": "[encoded data removed]",
      "text/plain": [
       "<Figure size 800x400 with 1 Axes>"
      ]
     },
     "metadata": {},
     "output_type": "display_data"
    }
   ],
   "source": [
    "import pandas as pd\n",
    "import numpy as np\n",
    "from statistics import mean\n",
    "from scipy.stats import ttest_ind\n",
    "\n",
    "def a_b_(x):\n",
    "  df=pd.DataFrame(columns =['metric_a','metric_b', 'p-value'], index=range(0,x))\n",
    "  r_a = np.random.normal(100, 40, 100) #ежедневный трафик по 200 человек разделила на две одинаковые группы\n",
    "  r_b = np.random.normal(100, 40, 100)\n",
    "  df.iloc[0,0] =r_a.mean()\n",
    "  df.iloc[0,1] =r_b.mean()\n",
    "  df.iloc[0,2] =ttest_ind(r_a,r_b)[1]\n",
    "  for i in range(1,x):\n",
    "    a= np.random.normal(100, 40, 100)\n",
    "    b = np.random.normal(100, 40, 100)\n",
    "    r_a=np.append(r_a,a)\n",
    "    r_b=np.append(r_b,b) \n",
    "    df.iloc[i,0] =(r_a[:(i+1)]).mean()\n",
    "    df.iloc[i,1] =(r_b[:(i+1)]).mean()\n",
    "    df.iloc[i,2] =ttest_ind(r_a,r_b)[1]\n",
    "  return df\n",
    "new_df3=a_b_(50)\n",
    "plt.plot(np.arange(1,51),new_df3.metric_a)\n",
    "plt.plot(np.arange(1,51),new_df3.metric_b)\n",
    "plt.xlabel('Номер дня')\n",
    "plt.ylabel('Значение среднего ')\n",
    "plt.title('График динамики среднего в группе А и Б по дням теста')\n",
    "plt.axvline(x=n, color='black', linestyle = '--');\n"
   ]
  },
  {
   "cell_type": "code",
   "execution_count": 119,
   "id": "QCH-oKnzfVBA",
   "metadata": {
    "colab": {
     "base_uri": "https://localhost:8080/",
     "height": 419
    },
    "id": "QCH-oKnzfVBA",
    "outputId": "12ce3ae6-f802-4827-d60d-7ee472e1cfda"
   },
   "outputs": [
    {
     "data": {
      "image/png": "[encoded data removed]",
      "text/plain": [
       "<Figure size 800x400 with 1 Axes>"
      ]
     },
     "metadata": {},
     "output_type": "display_data"
    }
   ],
   "source": [
    "plt.plot(np.arange(1,51),new_df3['p-value']) #п-вал скачет вверх-вниз, может оказаться меньше 0 (случайность), но в целом принимает высокое значение, это хорошо, значит что результаты у а\\а теста не сильно отличаются, победителя среди них нет, можно запускать аб-тест\n",
    "plt.xlabel('Номер дня')\n",
    "plt.ylabel('Значение p-value ')\n",
    "plt.title('График динамики p-value по дням теста')\n",
    "plt.axhline(y=0.05, color='black', linestyle = '--')\n",
    "plt.axvline(x=n, color='red', linestyle = '-.');"
   ]
  },
  {
   "cell_type": "markdown",
   "id": "seasonal-relations",
   "metadata": {
    "id": "seasonal-relations"
   },
   "source": [
    "2. Ну и напоследок, напишите функцию, которая генерирует p-value на последний день A/A теста. А затем запустите эту функцию $1000$ раз, собрав $1000$ значений p-value. Постройте гистограмму их распределения. Что вы видите? \n",
    "\n",
    "__Подсказка:__ Для такой функции достаточно создать выборку один раз, изменив ее размер."
   ]
  },
  {
   "cell_type": "code",
   "execution_count": 120,
   "id": "A571BcHjNBQ7",
   "metadata": {
    "id": "A571BcHjNBQ7"
   },
   "outputs": [],
   "source": [
    "np.random.seed(42)\n",
    "def a_b_(x):\n",
    "  p_val_list=[]\n",
    "  for l in range(x):\n",
    "    df=pd.DataFrame(columns =['metric_a','metric_b', 'p-value'], index=range(0,50))\n",
    "    r_a = np.random.normal(100, 40, 100)\n",
    "    r_b = np.random.normal(100, 40, 100)\n",
    "    df.iloc[0,0] =r_a.mean()\n",
    "    df.iloc[0,1] =r_b.mean()\n",
    "    df.iloc[0,2] =ttest_ind(r_a,r_b)[1]\n",
    "    for i in range(1,n):\n",
    "      a= np.random.normal(100, 40, 100)\n",
    "      b = np.random.normal(100, 40, 100)\n",
    "      r_a=np.append(r_a,a)\n",
    "      r_b=np.append(r_b,b) \n",
    "      df.iloc[i,0] =(r_a[:(i+1)]).mean()\n",
    "      df.iloc[i,1] =(r_b[:(i+1)]).mean()\n",
    "      df.iloc[i,2] =ttest_ind(r_a,r_b)[1]\n",
    "    p_val_list.append(df.loc[n-1][2])\n",
    "  return p_val_list\n",
    "list_p_=a_b_(1000)\n"
   ]
  },
  {
   "cell_type": "code",
   "execution_count": 121,
   "id": "GTY7addiiQ9G",
   "metadata": {
    "colab": {
     "base_uri": "https://localhost:8080/",
     "height": 419
    },
    "id": "GTY7addiiQ9G",
    "outputId": "9cb9ef5d-0fec-4858-acdb-fd69e199cc16"
   },
   "outputs": [
    {
     "data": {
      "image/png": "[encoded data removed]",
      "text/plain": [
       "<Figure size 800x400 with 1 Axes>"
      ]
     },
     "metadata": {},
     "output_type": "display_data"
    }
   ],
   "source": [
    "plt.title('P_value distribution')\n",
    "plt.xlabel('P_value')\n",
    "plt.ylabel('Count')\n",
    "plt.hist(list_p_);\n",
    "#распределение напоминает равномерное, это означает, что метрику можно использовать в эксперименте, так как нет зависимости между данными - начинать анализ можно"
   ]
  }
 ],
 "metadata": {
  "colab": {
   "provenance": []
  },
  "kernelspec": {
   "display_name": "Python 3 (ipykernel)",
   "language": "python",
   "name": "python3"
  },
  "language_info": {
   "codemirror_mode": {
    "name": "ipython",
    "version": 3
   },
   "file_extension": ".py",
   "mimetype": "text/x-python",
   "name": "python",
   "nbconvert_exporter": "python",
   "pygments_lexer": "ipython3",
   "version": "3.9.7"
  }
 },
 "nbformat": 4,
 "nbformat_minor": 5
}
